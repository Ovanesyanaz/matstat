{
 "cells": [
  {
   "cell_type": "code",
   "execution_count": 19,
   "metadata": {},
   "outputs": [],
   "source": [
    "import numpy as np\n",
    "import math\n",
    "from scipy.stats import chi2"
   ]
  },
  {
   "cell_type": "code",
   "execution_count": 40,
   "metadata": {},
   "outputs": [
    {
     "name": "stdout",
     "output_type": "stream",
     "text": [
      "n * p_i [108.6  66.2  20.2   4.2   0.6]\n"
     ]
    }
   ],
   "source": [
    "mi = np.array([109,65,22,3,1])\n",
    "val = np.array([0,1,2,3,4])\n",
    "n = 200\n",
    "vi = mi / n\n",
    "\n",
    "lambda_ = sum(mi * val)/ sum(mi)\n",
    "pois = np.array([round(lambda_ ** k / math.factorial(k) * np.exp(-lambda_),3) for k in range(5)])\n",
    "\n",
    "print(f\"n * p_i {pois * n}\")"
   ]
  },
  {
   "cell_type": "markdown",
   "metadata": {},
   "source": [
    "Совмещаем c 2 до бесконечности "
   ]
  },
  {
   "cell_type": "code",
   "execution_count": 42,
   "metadata": {},
   "outputs": [
    {
     "name": "stdout",
     "output_type": "stream",
     "text": [
      "mi            [109  65  26]\n",
      "n * p_i [108.6  66.2  25.2]\n"
     ]
    }
   ],
   "source": [
    "mi = np.array([mi[0], mi[1], sum(mi[2:])])\n",
    "vi = mi / n\n",
    "\n",
    "pois = np.array([round(lambda_ ** k / math.factorial(k) * np.exp(-lambda_),3) for k in range(2)])\n",
    "pois = np.append(pois, 1 - sum(pois))\n",
    "\n",
    "print(f\"mi            {mi}\")\n",
    "print(f\"n * p_i {pois * n}\")"
   ]
  },
  {
   "cell_type": "code",
   "execution_count": 47,
   "metadata": {},
   "outputs": [
    {
     "name": "stdout",
     "output_type": "stream",
     "text": [
      " delta - 0.04862238775877486\n"
     ]
    }
   ],
   "source": [
    "delta_ = 0\n",
    "for i in range(3):\n",
    "    delta_ += (mi[i] - pois[i] * n) ** 2 / pois[i] / n\n",
    "print(f\" delta - {delta_}\")"
   ]
  },
  {
   "cell_type": "code",
   "execution_count": 48,
   "metadata": {},
   "outputs": [
    {
     "name": "stdout",
     "output_type": "stream",
     "text": [
      "p-value - 0.975981942888146\n"
     ]
    }
   ],
   "source": [
    "df = 2\n",
    "print(f\"p-value - {1 - chi2.cdf(delta_, df)}\")"
   ]
  },
  {
   "cell_type": "markdown",
   "metadata": {},
   "source": [
    "Нет оснований отвергнуть гипотезу"
   ]
  }
 ],
 "metadata": {
  "kernelspec": {
   "display_name": "Python 3",
   "language": "python",
   "name": "python3"
  },
  "language_info": {
   "codemirror_mode": {
    "name": "ipython",
    "version": 3
   },
   "file_extension": ".py",
   "mimetype": "text/x-python",
   "name": "python",
   "nbconvert_exporter": "python",
   "pygments_lexer": "ipython3",
   "version": "3.11.11"
  }
 },
 "nbformat": 4,
 "nbformat_minor": 2
}
