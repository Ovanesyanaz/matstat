{
 "cells": [
  {
   "cell_type": "code",
   "execution_count": 1,
   "metadata": {},
   "outputs": [],
   "source": [
    "import scipy.stats as st\n",
    "import matplotlib.pyplot as plt\n",
    "import numpy as np\n",
    "from scipy.optimize import differential_evolution\n",
    "\n",
    "n = 100"
   ]
  },
  {
   "cell_type": "markdown",
   "metadata": {},
   "source": [
    "## Пункт а"
   ]
  },
  {
   "cell_type": "markdown",
   "metadata": {},
   "source": [
    "##### Хи квадрат"
   ]
  },
  {
   "cell_type": "code",
   "execution_count": null,
   "metadata": {},
   "outputs": [
    {
     "name": "stdout",
     "output_type": "stream",
     "text": [
      "chi2_pval = 0.058984030544419475\n"
     ]
    }
   ],
   "source": [
    "pval = float(1 - st.chi2.cdf(16.4, 9))\n",
    "print(f\"{pval = }\")"
   ]
  },
  {
   "cell_type": "markdown",
   "metadata": {},
   "source": [
    "##### Колмогоров"
   ]
  },
  {
   "cell_type": "code",
   "execution_count": 18,
   "metadata": {},
   "outputs": [
    {
     "data": {
      "text/plain": [
       "[<matplotlib.lines.Line2D at 0x14ac35290>]"
      ]
     },
     "execution_count": 18,
     "metadata": {},
     "output_type": "execute_result"
    },
    {
     "data": {
      "image/png": "[encoded data removed]",
      "text/plain": [
       "<Figure size 640x480 with 1 Axes>"
      ]
     },
     "metadata": {},
     "output_type": "display_data"
    }
   ],
   "source": [
    "count = [5, 8, 6, 12, 14, 18, 11, 6, 13, 7]\n",
    "data = []\n",
    "for i in range(len(count)):\n",
    "    data += [i]*count[i]\n",
    "\n",
    "x = np.linspace(0, 9, 10)\n",
    "ecdf = np.append([0], st.ecdf(data).cdf.probabilities)\n",
    "cdf = st.uniform.cdf(x, loc=0, scale=9)\n",
    "\n",
    "plt.ecdf(data)\n",
    "plt.plot(x, cdf)"
   ]
  },
  {
   "cell_type": "code",
   "execution_count": 26,
   "metadata": {},
   "outputs": [
    {
     "name": "stdout",
     "output_type": "stream",
     "text": [
      "delta - 1.4333333333333331\n",
      "p_value - 0.03285188543859743\n"
     ]
    }
   ],
   "source": [
    "kolmogorov_delta = np.sqrt(n) * np.max(np.abs(\n",
    "    np.append(\n",
    "        cdf - ecdf[:10],\n",
    "        cdf - ecdf[1:]\n",
    "    )\n",
    "))\n",
    "kolmogorov_pval = 0\n",
    "for i in range(1, 100_000):\n",
    "    kolmogorov_pval += 2 * ((-1)**(i + 1)) * np.exp(-2 * (i**2) * (kolmogorov_delta**2))\n",
    "print(f\"delta - {kolmogorov_delta}\\np_value - {kolmogorov_pval}\")"
   ]
  },
  {
   "cell_type": "markdown",
   "metadata": {},
   "source": [
    "## Пункт b"
   ]
  },
  {
   "cell_type": "markdown",
   "metadata": {},
   "source": [
    "##### Хи квадрат"
   ]
  },
  {
   "cell_type": "code",
   "execution_count": 29,
   "metadata": {},
   "outputs": [
    {
     "name": "stdout",
     "output_type": "stream",
     "text": [
      "theta_1 - 5.291625134170802\n",
      "theta_2 - 2.6831542881348347\n"
     ]
    }
   ],
   "source": [
    "m_i = [5, 8, 6, 12, 14, 18, 11, 6, 13, 7]\n",
    "\n",
    "def func(x):\n",
    "    global m_i\n",
    "    \n",
    "    loc = x[0]\n",
    "    scale = x[1]\n",
    "\n",
    "    p_i = st.norm.cdf([1, 2, 3, 4, 5, 6, 7, 8, 9], loc=loc, scale=scale)\n",
    "    product = 1\n",
    "    for i in range(8):\n",
    "        product *= (p_i[i + 1] - p_i[i]) ** m_i[i + 1]\n",
    "\n",
    "    return - (p_i[0] ** m_i[0] * (1 - p_i[-1]) ** m_i[-1] * product)\n",
    "\n",
    "\n",
    "res = differential_evolution(\n",
    "    func=func,\n",
    "    bounds=[(3, 7), (1, 4)],\n",
    "    maxiter=10_000,\n",
    ")\n",
    "\n",
    "theta_1 = float(res.x[0])\n",
    "theta_2 = float(res.x[1])\n",
    "\n",
    "p_i = st.norm.cdf([1, 2, 3, 4, 5, 6, 7, 8, 9], loc=theta_1, scale=theta_2)\n",
    "\n",
    "np_i = []\n",
    "np_i.append(n * p_i[0])\n",
    "for i in range(8):\n",
    "    np_i.append(n * (p_i[i + 1] - p_i[i]))\n",
    "np_i.append(n * (1 - p_i[-1]))\n",
    "\n",
    "np_i = np.array(np_i)\n",
    "\n",
    "print(f\"theta_1 - {theta_1}\\ntheta_2 - {theta_2}\")"
   ]
  },
  {
   "cell_type": "code",
   "execution_count": 28,
   "metadata": {},
   "outputs": [
    {
     "name": "stdout",
     "output_type": "stream",
     "text": [
      "delta - 9.814605978898538\n",
      "p_value - 0.19932528634485946\n"
     ]
    }
   ],
   "source": [
    "delta = float(np.sum((np_i - m_i) ** 2 / np_i))\n",
    "pval = float(1 - st.chi2.cdf(delta, 7))\n",
    "\n",
    "print(f\"delta - {delta}\\np_value - {pval}\")"
   ]
  },
  {
   "cell_type": "markdown",
   "metadata": {},
   "source": [
    "##### Колмогоров"
   ]
  },
  {
   "cell_type": "code",
   "execution_count": 30,
   "metadata": {},
   "outputs": [
    {
     "name": "stdout",
     "output_type": "stream",
     "text": [
      "kolmogorov_delta = 1.0020942299329128\n",
      "kolmogorov_pval = 0.0144\n"
     ]
    }
   ],
   "source": [
    "def parametric_bootstrap(data, statistic, prob_model, n_resamples = 10_000):\n",
    "    n = len(data)\n",
    "    bootstrap_data = np.ndarray((n_resamples, ), dtype=np.float32)\n",
    "\n",
    "    for i in range(n_resamples):\n",
    "        resample = prob_model(n)\n",
    "        bootstrap_data[i] = statistic(resample)\n",
    "    \n",
    "    bootstrap_data.sort()\n",
    "\n",
    "    return bootstrap_data\n",
    "\n",
    "\n",
    "def statistic(data):\n",
    "    data = np.sort(data)\n",
    "\n",
    "    mean = np.mean(data)\n",
    "    std = np.std(data, ddof=1)\n",
    "\n",
    "    ecdf = np.append([0], st.ecdf(data).cdf.probabilities)\n",
    "    cdf = st.norm.cdf(data, loc=mean, scale=std)\n",
    "    delta = np.sqrt(n) * np.max(np.abs(\n",
    "        np.append(\n",
    "            cdf - ecdf[:len(ecdf) - 1],\n",
    "            cdf - ecdf[1:]\n",
    "        )\n",
    "    ))\n",
    "\n",
    "    return delta\n",
    "\n",
    "\n",
    "mean = np.mean(data)\n",
    "std = np.std(data, ddof=1)\n",
    "n_resamples = 50_000\n",
    "bootstrap = parametric_bootstrap(data, statistic, lambda n: np.random.normal(mean, std, n), n_resamples=n_resamples)\n",
    "\n",
    "x = np.linspace(0, 9, 10)\n",
    "ecdf = np.append([0], st.ecdf(data).cdf.probabilities)\n",
    "cdf = st.norm.cdf(x, loc=mean, scale=std)\n",
    "kolmogorov_delta = np.sqrt(n) * np.max(np.abs(\n",
    "    np.append(\n",
    "        cdf - ecdf[:10],\n",
    "        cdf - ecdf[1:]\n",
    "    )\n",
    "))\n",
    "kolmogorov_delta = float(kolmogorov_delta)\n",
    "\n",
    "kolmogorov_pval = np.count_nonzero(bootstrap >= kolmogorov_delta) / n_resamples\n",
    "\n",
    "print(\n",
    "    f\"{kolmogorov_delta = }\",\n",
    "    f\"{kolmogorov_pval = }\",\n",
    "    sep=\"\\n\"\n",
    ")"
   ]
  }
 ],
 "metadata": {
  "kernelspec": {
   "display_name": "Python 3",
   "language": "python",
   "name": "python3"
  },
  "language_info": {
   "codemirror_mode": {
    "name": "ipython",
    "version": 3
   },
   "file_extension": ".py",
   "mimetype": "text/x-python",
   "name": "python",
   "nbconvert_exporter": "python",
   "pygments_lexer": "ipython3",
   "version": "3.11.11"
  }
 },
 "nbformat": 4,
 "nbformat_minor": 2
}
