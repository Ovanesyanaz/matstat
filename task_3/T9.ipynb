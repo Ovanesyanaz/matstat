{
 "cells": [
  {
   "cell_type": "code",
   "execution_count": 3,
   "metadata": {},
   "outputs": [],
   "source": [
    "import numpy as np\n",
    "from scipy.stats import chi2"
   ]
  },
  {
   "cell_type": "code",
   "execution_count": 31,
   "metadata": {},
   "outputs": [
    {
     "name": "stdout",
     "output_type": "stream",
     "text": [
      "2.0771\n",
      "0.5566\n"
     ]
    }
   ],
   "source": [
    "a1 = [33.,43.,80.,144.]\n",
    "a2 = [39.,35.,72.,154.]\n",
    "\n",
    "p_i = [(a1[i] + a2[i]) / 2 for i in range(len(a1))]\n",
    "\n",
    "delta_1 = [((a1[i] - p_i[i]) ** 2) / p_i[i] for i in range(len(a1))]\n",
    "delta_2 = [((a2[i] - p_i[i]) ** 2) / p_i[i] for i in range(len(a1))]\n",
    "\n",
    "delta = sum(delta_2) + sum(delta_1)\n",
    "\n",
    "print(f\"{delta:.4f}\")\n",
    "\n",
    "df = 3  # Количество степеней свободы\n",
    "\n",
    "result = 1 - chi2.cdf(delta, df)\n",
    "print(f\"{result:.4f}\")"
   ]
  }
 ],
 "metadata": {
  "kernelspec": {
   "display_name": "Python 3",
   "language": "python",
   "name": "python3"
  },
  "language_info": {
   "codemirror_mode": {
    "name": "ipython",
    "version": 3
   },
   "file_extension": ".py",
   "mimetype": "text/x-python",
   "name": "python",
   "nbconvert_exporter": "python",
   "pygments_lexer": "ipython3",
   "version": "3.11.11"
  }
 },
 "nbformat": 4,
 "nbformat_minor": 2
}
