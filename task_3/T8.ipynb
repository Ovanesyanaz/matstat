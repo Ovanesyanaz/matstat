{
 "cells": [
  {
   "cell_type": "code",
   "execution_count": 7,
   "metadata": {},
   "outputs": [],
   "source": [
    "import numpy as np\n",
    "import math\n",
    "from scipy.stats import chi2"
   ]
  },
  {
   "cell_type": "code",
   "execution_count": 9,
   "metadata": {},
   "outputs": [],
   "source": [
    "m = np.array([\n",
    "    [25, 50, 25],\n",
    "    [52, 41, 7]\n",
    "])\n",
    "n = np.sum(m)\n",
    "p = np.sum(m, axis=1) / n\n",
    "q = np.sum(m, axis=0) / n"
   ]
  },
  {
   "cell_type": "code",
   "execution_count": 11,
   "metadata": {},
   "outputs": [
    {
     "name": "stdout",
     "output_type": "stream",
     "text": [
      "delta=20.48264235764236\n",
      "p_value=3.5665697735942636e-05\n"
     ]
    }
   ],
   "source": [
    "delta = 0\n",
    "h, w = m.shape\n",
    "for i in range(h):\n",
    "    for j in range(w):\n",
    "        delta += np.square(m[i, j] - n * p[i] * q[j]) / (n * p[i] * q[j])\n",
    "print(f\"{delta=}\")\n",
    "df = (h-1) * (w-1)\n",
    "p_value = 1 - chi2.cdf(delta, df)\n",
    "print(f\"{p_value=}\")"
   ]
  },
  {
   "cell_type": "markdown",
   "metadata": {},
   "source": [
    "отбрасываем гипотезу"
   ]
  }
 ],
 "metadata": {
  "kernelspec": {
   "display_name": "Python 3",
   "language": "python",
   "name": "python3"
  },
  "language_info": {
   "codemirror_mode": {
    "name": "ipython",
    "version": 3
   },
   "file_extension": ".py",
   "mimetype": "text/x-python",
   "name": "python",
   "nbconvert_exporter": "python",
   "pygments_lexer": "ipython3",
   "version": "3.11.11"
  }
 },
 "nbformat": 4,
 "nbformat_minor": 2
}
