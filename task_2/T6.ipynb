{
 "cells": [
  {
   "cell_type": "code",
   "execution_count": 2,
   "metadata": {},
   "outputs": [],
   "source": [
    "import numpy as np\n",
    "from scipy import stats as st\n",
    "from matplotlib import pyplot as plt\n",
    "\n",
    "%matplotlib inline"
   ]
  },
  {
   "cell_type": "code",
   "execution_count": 3,
   "metadata": {},
   "outputs": [],
   "source": [
    "n = 100\n",
    "teta = 2"
   ]
  },
  {
   "cell_type": "markdown",
   "metadata": {},
   "source": [
    "Генерация выборки"
   ]
  },
  {
   "cell_type": "code",
   "execution_count": 4,
   "metadata": {},
   "outputs": [
    {
     "data": {
      "text/plain": [
       "array([ 8.3778676 ,  6.87314297,  1.1202374 ,  8.50486674,  1.32730026,\n",
       "        4.42645854,  1.42170599,  5.2324678 ,  1.74306169,  2.16609378,\n",
       "        1.17210948,  1.97163798,  4.44857706,  1.46243975, 22.08818639,\n",
       "        3.06238501,  1.03944874,  2.18801724,  2.11177913,  1.78535482,\n",
       "        3.2492383 ,  1.55006718,  1.28409317,  1.09354812,  8.9863811 ,\n",
       "        1.52025285,  4.60996848,  3.1349956 ,  8.99742391,  3.83247161,\n",
       "        1.08058727,  1.23726687,  5.39459648,  1.04436313,  9.69015046,\n",
       "        1.18709475,  1.1545741 ,  5.29152606,  2.32568433,  1.36687688,\n",
       "        1.66081735,  1.23377879,  1.01321854,  2.54966184,  1.56054978,\n",
       "        1.12028506,  1.15309996,  3.93138231, 16.3563883 ,  2.29907794,\n",
       "        2.03259973,  1.81082676, 38.16849119,  1.04813912, 10.58750084,\n",
       "        9.28336717,  1.6503357 ,  1.28397709, 31.66864823,  4.22525998,\n",
       "        2.19752865,  2.2631794 ,  6.77027898,  1.42513647,  1.1069863 ,\n",
       "        2.19544385,  2.46104717,  2.15963204,  1.35018114,  1.48002647,\n",
       "        1.05053432,  1.29502683,  2.3158249 ,  2.22214287,  1.77323911,\n",
       "        1.32261877,  5.39353134,  1.38611402,  1.35656874,  4.48587272,\n",
       "        3.16506969,  3.0417734 ,  1.26755613,  1.14239132,  1.33690558,\n",
       "        5.30471006,  2.31784872,  4.2900071 ,  2.04142378,  1.71390564,\n",
       "        3.97674517, 13.39088825,  1.8725278 ,  2.65454753,  5.92323977,\n",
       "        1.61529381,  1.05014576,  1.84357726,  1.40729602,  1.7826015 ])"
      ]
     },
     "execution_count": 4,
     "metadata": {},
     "output_type": "execute_result"
    }
   ],
   "source": [
    "data = np.power(1 - np.random.rand(n), 1 / (1 - teta))\n",
    "data"
   ]
  },
  {
   "cell_type": "markdown",
   "metadata": {},
   "source": [
    "вычисление полученных аналитически доверительных интервалов"
   ]
  },
  {
   "cell_type": "code",
   "execution_count": 5,
   "metadata": {},
   "outputs": [],
   "source": [
    "beta = 0.95\n",
    "t1 = -1.96\n",
    "t2 = 1.96"
   ]
  },
  {
   "cell_type": "markdown",
   "metadata": {},
   "source": [
    "оценка"
   ]
  },
  {
   "cell_type": "code",
   "execution_count": 6,
   "metadata": {},
   "outputs": [
    {
     "data": {
      "text/plain": [
       "2.0800699664863407"
      ]
     },
     "execution_count": 6,
     "metadata": {},
     "output_type": "execute_result"
    }
   ],
   "source": [
    "assessment_teta = (n / np.sum(np.log(data))) + 1\n",
    "assessment_teta"
   ]
  },
  {
   "cell_type": "code",
   "execution_count": 7,
   "metadata": {},
   "outputs": [
    {
     "name": "stdout",
     "output_type": "stream",
     "text": [
      "h1 - 1.8683762530550179\n",
      "h2 - 2.2917636799176635\n",
      "длина интервала - 0.42338742686264563\n"
     ]
    }
   ],
   "source": [
    "h1 = assessment_teta + t1 * (assessment_teta - 1) / n**0.5\n",
    "h2 = assessment_teta + t2 * (assessment_teta - 1) / n**0.5\n",
    "print(f\"h1 - {h1}\\nh2 - {h2}\\nдлина интервала - {h2 - h1}\")\n",
    "an_res_teta = (h1,h2)"
   ]
  },
  {
   "cell_type": "markdown",
   "metadata": {},
   "source": [
    "оценка медианы"
   ]
  },
  {
   "cell_type": "code",
   "execution_count": 8,
   "metadata": {},
   "outputs": [
    {
     "data": {
      "text/plain": [
       "1.8998242259467202"
      ]
     },
     "execution_count": 8,
     "metadata": {},
     "output_type": "execute_result"
    }
   ],
   "source": [
    "assessment_med = np.power(2, 1 / (assessment_teta - 1))\n",
    "assessment_med"
   ]
  },
  {
   "cell_type": "code",
   "execution_count": 9,
   "metadata": {},
   "outputs": [
    {
     "name": "stdout",
     "output_type": "stream",
     "text": [
      "h1 - 1.6608544018237046\n",
      "h2 - 2.1387940500697358\n",
      "длина интервала - 0.4779396482460312\n"
     ]
    }
   ],
   "source": [
    "h1 = t1 * assessment_med * np.log(2) / (assessment_teta - 1) / np.sqrt(n) + assessment_med\n",
    "h2 = t2 * assessment_med * np.log(2) / (assessment_teta - 1) / np.sqrt(n) + assessment_med\n",
    "print(f\"h1 - {h1}\\nh2 - {h2}\\nдлина интервала - {h2 - h1}\")\n",
    "an_res_med = (h1,h2)"
   ]
  },
  {
   "cell_type": "markdown",
   "metadata": {},
   "source": [
    "Непараметрический бутстрап для оценки теты"
   ]
  },
  {
   "cell_type": "code",
   "execution_count": 10,
   "metadata": {},
   "outputs": [
    {
     "name": "stdout",
     "output_type": "stream",
     "text": [
      "доверительный интервал -  (1.9193410159583437, 2.2922835277802336) \n",
      "длина интервала - 0.37294251182188987\n"
     ]
    }
   ],
   "source": [
    "func = lambda x: (n / np.sum(np.log(x))) + 1 - assessment_teta\n",
    "non_parametric_bootstrap_teta = st.bootstrap(\n",
    "    (data, ), \n",
    "    func, \n",
    "    n_resamples=1_000, \n",
    "    method='basic',\n",
    "    confidence_level=0.95\n",
    ").confidence_interval\n",
    "\n",
    "non_parametric_bootstrap_teta = (assessment_teta - non_parametric_bootstrap_teta.high, assessment_teta - non_parametric_bootstrap_teta.low)\n",
    "print(\"доверительный интервал - \",non_parametric_bootstrap_teta, \"\\nдлина интервала -\",non_parametric_bootstrap_teta[1] - non_parametric_bootstrap_teta[0])"
   ]
  },
  {
   "cell_type": "markdown",
   "metadata": {},
   "source": [
    "Параметрический бутстрап для оценки теты"
   ]
  },
  {
   "cell_type": "code",
   "execution_count": 12,
   "metadata": {},
   "outputs": [
    {
     "name": "stdout",
     "output_type": "stream",
     "text": [
      "доверительный интервал -  (1.830410905054456, 2.264678753784543) \n",
      "длина интервала - 0.4342678487300873\n"
     ]
    }
   ],
   "source": [
    "from collections.abc import Callable\n",
    "from typing import NamedTuple\n",
    "\n",
    "\n",
    "class ConfidenceInterval(NamedTuple):\n",
    "    low: float\n",
    "    high: float\n",
    "\n",
    "\n",
    "def parametric_bootstrap(\n",
    "    data: np.ndarray,\n",
    "    statistic: Callable[[np.ndarray], float],\n",
    "    prob_model: Callable[[int], np.ndarray],\n",
    "    n_resamples: int = 10_000,\n",
    "    confidence_level: float = 0.95,\n",
    ") -> ConfidenceInterval:\n",
    "    n = len(data)\n",
    "    bootstrap_data = np.ndarray((n_resamples, ), dtype=np.float32)\n",
    "\n",
    "    for i in range(n_resamples):\n",
    "        resample = prob_model(n)\n",
    "        bootstrap_data[i] = statistic(resample)\n",
    "    \n",
    "    bootstrap_data.sort()\n",
    "\n",
    "    return ConfidenceInterval(\n",
    "        low=bootstrap_data[round((1 - confidence_level) / 2 * n_resamples) - 1],\n",
    "        high=bootstrap_data[round((1 + confidence_level) / 2 * n_resamples) - 1]\n",
    "    )\n",
    "\n",
    "\n",
    "parametric_bootstrap_teta = parametric_bootstrap(\n",
    "    data,\n",
    "    func,\n",
    "    lambda n: np.power((1 - np.random.rand(n)), 1 / (1 - assessment_teta)),\n",
    "    n_resamples=50_000, \n",
    "    confidence_level=0.95\n",
    ")\n",
    "\n",
    "parametric_bootstrap_teta = (assessment_teta - parametric_bootstrap_teta.high, assessment_teta - parametric_bootstrap_teta.low)\n",
    "print(\"доверительный интервал - \",parametric_bootstrap_teta, \"\\nдлина интервала -\",parametric_bootstrap_teta[1] - parametric_bootstrap_teta[0])"
   ]
  },
  {
   "cell_type": "markdown",
   "metadata": {},
   "source": [
    "Непараметрический бутстрап для оценки медианы"
   ]
  },
  {
   "cell_type": "code",
   "execution_count": 13,
   "metadata": {},
   "outputs": [
    {
     "name": "stdout",
     "output_type": "stream",
     "text": [
      "доверительный интервал -  (1.6918524282943872, 2.1236498180277796) \n",
      "длина интервала - 0.43179738973339243\n"
     ]
    }
   ],
   "source": [
    "func = lambda x: np.power(2, 1 / (n / np.sum(np.log(x)))) - assessment_med\n",
    "non_parametric_bootstrap_med = st.bootstrap(\n",
    "    (data, ), \n",
    "    func, \n",
    "    n_resamples=1_000, \n",
    "    method='basic',\n",
    "    confidence_level=0.95\n",
    ").confidence_interval\n",
    "\n",
    "non_parametric_bootstrap_med  = (assessment_med - non_parametric_bootstrap_med .high, assessment_med - non_parametric_bootstrap_med .low)\n",
    "print(\"доверительный интервал - \",non_parametric_bootstrap_med, \"\\nдлина интервала -\",non_parametric_bootstrap_med[1] - non_parametric_bootstrap_med[0])"
   ]
  },
  {
   "cell_type": "markdown",
   "metadata": {},
   "source": [
    "Параметрический бутстрап для оценки медианы"
   ]
  },
  {
   "cell_type": "code",
   "execution_count": 14,
   "metadata": {},
   "outputs": [
    {
     "name": "stdout",
     "output_type": "stream",
     "text": [
      "доверительный интервал -  (1.8145261182102024, 2.294964782765752) \n",
      "длина интервала - 0.4804386645555496\n"
     ]
    }
   ],
   "source": [
    "from collections.abc import Callable\n",
    "from typing import NamedTuple\n",
    "\n",
    "\n",
    "class ConfidenceInterval(NamedTuple):\n",
    "    low: float\n",
    "    high: float\n",
    "\n",
    "\n",
    "def parametric_bootstrap(\n",
    "    data: np.ndarray,\n",
    "    statistic: Callable[[np.ndarray], float],\n",
    "    prob_model: Callable[[int], np.ndarray],\n",
    "    n_resamples: int = 10_000,\n",
    "    confidence_level: float = 0.95,\n",
    ") -> ConfidenceInterval:\n",
    "    n = len(data)\n",
    "    bootstrap_data = np.ndarray((n_resamples, ), dtype=np.float32)\n",
    "\n",
    "    for i in range(n_resamples):\n",
    "        resample = prob_model(n)\n",
    "        bootstrap_data[i] = statistic(resample)\n",
    "    \n",
    "    bootstrap_data.sort()\n",
    "\n",
    "    return ConfidenceInterval(\n",
    "        low=bootstrap_data[round((1 - confidence_level) / 2 * n_resamples) - 1],\n",
    "        high=bootstrap_data[round((1 + confidence_level) / 2 * n_resamples) - 1]\n",
    "    )\n",
    "\n",
    "\n",
    "parametric_bootstrap_med = parametric_bootstrap(\n",
    "    data,\n",
    "    func,\n",
    "    lambda n: np.power(np.random.rand(n), 1 / (1 - assessment_teta)),\n",
    "    n_resamples=50_000, \n",
    "    confidence_level=0.95\n",
    ")\n",
    "\n",
    "parametric_bootstrap_med = (assessment_teta - parametric_bootstrap_med.high, assessment_teta - parametric_bootstrap_med.low)\n",
    "print(\"доверительный интервал - \",parametric_bootstrap_med, \"\\nдлина интервала -\",parametric_bootstrap_med[1] - parametric_bootstrap_med[0])"
   ]
  },
  {
   "cell_type": "markdown",
   "metadata": {},
   "source": [
    "Сравнение"
   ]
  },
  {
   "cell_type": "code",
   "execution_count": 15,
   "metadata": {},
   "outputs": [
    {
     "name": "stdout",
     "output_type": "stream",
     "text": [
      "Для теты\n",
      "\n",
      "an_res_teta = (1.8683762530550179, 2.2917636799176635)\n",
      "\n",
      "non_parametric_bootstrap_teta = (1.9193410159583437, 2.2922835277802336)\n",
      "\n",
      "parametric_bootstrap_teta = (1.830410905054456, 2.264678753784543)\n",
      "\n",
      "\n",
      "Для медианы\n",
      "\n",
      "an_res_med = (1.6608544018237046, 2.1387940500697358)\n",
      "\n",
      "non_parametric_bootstrap_med = (1.6918524282943872, 2.1236498180277796)\n",
      "\n",
      "parametric_bootstrap_med = (1.8145261182102024, 2.294964782765752)\n"
     ]
    }
   ],
   "source": [
    "print(\n",
    "    \"Для теты\",\n",
    "    f\"{an_res_teta = }\",\n",
    "    f\"{non_parametric_bootstrap_teta = }\",\n",
    "    f\"{parametric_bootstrap_teta = }\",\n",
    "    \"\\nДля медианы\",\n",
    "    f\"{an_res_med = }\",\n",
    "    f\"{non_parametric_bootstrap_med = }\",\n",
    "    f\"{parametric_bootstrap_med = }\",\n",
    "    sep=\"\\n\\n\"\n",
    ")"
   ]
  }
 ],
 "metadata": {
  "kernelspec": {
   "display_name": "Python 3",
   "language": "python",
   "name": "python3"
  },
  "language_info": {
   "codemirror_mode": {
    "name": "ipython",
    "version": 3
   },
   "file_extension": ".py",
   "mimetype": "text/x-python",
   "name": "python",
   "nbconvert_exporter": "python",
   "pygments_lexer": "ipython3",
   "version": "3.11.11"
  }
 },
 "nbformat": 4,
 "nbformat_minor": 2
}
