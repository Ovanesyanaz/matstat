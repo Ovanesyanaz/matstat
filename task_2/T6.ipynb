{
 "cells": [
  {
   "cell_type": "code",
   "execution_count": 2,
   "metadata": {},
   "outputs": [],
   "source": [
    "import numpy as np\n",
    "from scipy import stats as st\n",
    "from matplotlib import pyplot as plt\n",
    "\n",
    "%matplotlib inline"
   ]
  },
  {
   "cell_type": "code",
   "execution_count": 3,
   "metadata": {},
   "outputs": [],
   "source": [
    "n = 100\n",
    "teta = 2"
   ]
  },
  {
   "cell_type": "markdown",
   "metadata": {},
   "source": [
    "Генерация выборки"
   ]
  },
  {
   "cell_type": "code",
   "execution_count": 4,
   "metadata": {},
   "outputs": [
    {
     "data": {
      "text/plain": [
       "array([  3.89917144,   5.80051728,   2.43028806,   1.0499324 ,\n",
       "         1.50362749,   3.06013165,   1.68350057,   3.74060098,\n",
       "         6.22714988,   2.7445833 ,   1.17098713,   1.4801626 ,\n",
       "         1.83938168,   1.61917698,   1.12889764,   1.08761507,\n",
       "         1.40741645,   1.72899448,   1.52958938,   1.12809531,\n",
       "         8.16130567,   3.17948918,   2.78451182,   1.43805052,\n",
       "         1.7683587 ,   1.86408907,   1.48392306,   1.5872687 ,\n",
       "         1.24221452,   4.23412759,   1.99102612,   3.03881212,\n",
       "         1.49234591,   1.22691133,   2.93133562,   6.47417285,\n",
       "         1.5247843 ,   3.85359147,   1.8160591 ,   3.23764175,\n",
       "        72.46039633,   1.41654381,   1.27931299,   1.34405141,\n",
       "         2.85115812,   2.07417971,   1.64521943,   1.09361539,\n",
       "         1.62383782,   1.00203313,   3.40534425,   1.59440389,\n",
       "        12.52890808,   2.49007431,   1.45207119,   1.2631932 ,\n",
       "         3.8889904 ,   1.36086681,   2.13874409,   2.68739886,\n",
       "         9.14669331,  47.19729496,   1.27130745,   4.79743032,\n",
       "         4.35380615,   1.23880252,   1.64054633,   1.81772962,\n",
       "         1.37551697,  15.46090775,  11.1660212 ,   1.08298094,\n",
       "         1.65000183, 288.28357357,   2.31854565,   6.68297162,\n",
       "        12.19431252,   3.60461971,   1.26715798,   2.23372645,\n",
       "         8.14359685,   1.02789734,   5.18265257,   1.15132129,\n",
       "         2.09431552,   3.2911978 ,   2.25944046,   1.21023585,\n",
       "         1.22334384,   3.29916588,   5.44968468,   2.39706751,\n",
       "         1.40822065,   4.71513631,   2.96765958,   1.71604526,\n",
       "         2.40306173,   4.09514022,  11.59927889,   3.81577564])"
      ]
     },
     "execution_count": 4,
     "metadata": {},
     "output_type": "execute_result"
    }
   ],
   "source": [
    "data = np.power(1 - np.random.rand(n), 1 / (1 - teta))\n",
    "data"
   ]
  },
  {
   "cell_type": "markdown",
   "metadata": {},
   "source": [
    "вычисление полученных аналитически доверительных интервалов"
   ]
  },
  {
   "cell_type": "code",
   "execution_count": 5,
   "metadata": {},
   "outputs": [],
   "source": [
    "beta = 0.95\n",
    "t1 = -1.96\n",
    "t2 = 1.96"
   ]
  },
  {
   "cell_type": "markdown",
   "metadata": {},
   "source": [
    "оценка"
   ]
  },
  {
   "cell_type": "code",
   "execution_count": 6,
   "metadata": {},
   "outputs": [
    {
     "data": {
      "text/plain": [
       "2.0172272844604375"
      ]
     },
     "execution_count": 6,
     "metadata": {},
     "output_type": "execute_result"
    }
   ],
   "source": [
    "assessment_teta = (n / np.sum(np.log(data))) + 1\n",
    "assessment_teta"
   ]
  },
  {
   "cell_type": "code",
   "execution_count": 7,
   "metadata": {},
   "outputs": [
    {
     "name": "stdout",
     "output_type": "stream",
     "text": [
      "h1 - 1.8178507367061918\n",
      "h2 - 2.2166038322146835\n",
      "длина интервала - 0.3987530955084917\n"
     ]
    }
   ],
   "source": [
    "h1 = assessment_teta + t1 * (assessment_teta - 1) / n**0.5\n",
    "h2 = assessment_teta + t2 * (assessment_teta - 1) / n**0.5\n",
    "print(f\"h1 - {h1}\\nh2 - {h2}\\nдлина интервала - {h2 - h1}\")\n",
    "an_res_teta = (h1,h2)"
   ]
  },
  {
   "cell_type": "markdown",
   "metadata": {},
   "source": [
    "оценка медианы"
   ]
  },
  {
   "cell_type": "code",
   "execution_count": 8,
   "metadata": {},
   "outputs": [
    {
     "data": {
      "text/plain": [
       "1.9766596307022708"
      ]
     },
     "execution_count": 8,
     "metadata": {},
     "output_type": "execute_result"
    }
   ],
   "source": [
    "assessment_med = np.power(2, 1 / (assessment_teta - 1))\n",
    "assessment_med"
   ]
  },
  {
   "cell_type": "code",
   "execution_count": 9,
   "metadata": {},
   "outputs": [
    {
     "name": "stdout",
     "output_type": "stream",
     "text": [
      "h1 - 1.71266479897473\n",
      "h2 - 2.2406544624298115\n",
      "длина интервала - 0.5279896634550816\n"
     ]
    }
   ],
   "source": [
    "h1 = t1 * assessment_med * np.log(2) / (assessment_teta - 1) / np.sqrt(n) + assessment_med\n",
    "h2 = t2 * assessment_med * np.log(2) / (assessment_teta - 1) / np.sqrt(n) + assessment_med\n",
    "print(f\"h1 - {h1}\\nh2 - {h2}\\nдлина интервала - {h2 - h1}\")\n",
    "an_res_med = (h1,h2)"
   ]
  },
  {
   "cell_type": "markdown",
   "metadata": {},
   "source": [
    "Непараметрический бутстрап для оценки теты"
   ]
  },
  {
   "cell_type": "code",
   "execution_count": 10,
   "metadata": {},
   "outputs": [
    {
     "name": "stdout",
     "output_type": "stream",
     "text": [
      "доверительный интервал -  (1.8661863260403126, 2.2410012524014027) \n",
      "длина интервала - 0.37481492636109004\n"
     ]
    }
   ],
   "source": [
    "func = lambda x: (n / np.sum(np.log(x))) + 1 - assessment_teta\n",
    "non_parametric_bootstrap_teta = st.bootstrap(\n",
    "    (data, ), \n",
    "    func, \n",
    "    n_resamples=1_000, \n",
    "    method='basic',\n",
    "    confidence_level=0.95\n",
    ").confidence_interval\n",
    "\n",
    "non_parametric_bootstrap_teta = (assessment_teta - non_parametric_bootstrap_teta.high, assessment_teta - non_parametric_bootstrap_teta.low)\n",
    "print(\"доверительный интервал - \",non_parametric_bootstrap_teta, \"\\nдлина интервала -\",non_parametric_bootstrap_teta[1] - non_parametric_bootstrap_teta[0])"
   ]
  },
  {
   "cell_type": "markdown",
   "metadata": {},
   "source": [
    "Параметрический бутстрап для оценки теты"
   ]
  },
  {
   "cell_type": "code",
   "execution_count": 11,
   "metadata": {},
   "outputs": [
    {
     "name": "stdout",
     "output_type": "stream",
     "text": [
      "доверительный интервал -  (1.7847741915277364, 2.1906579656890752) \n",
      "длина интервала - 0.4058837741613388\n"
     ]
    }
   ],
   "source": [
    "from collections.abc import Callable\n",
    "from typing import NamedTuple\n",
    "\n",
    "\n",
    "class ConfidenceInterval(NamedTuple):\n",
    "    low: float\n",
    "    high: float\n",
    "\n",
    "\n",
    "def parametric_bootstrap(\n",
    "    data: np.ndarray,\n",
    "    statistic: Callable[[np.ndarray], float],\n",
    "    prob_model: Callable[[int], np.ndarray],\n",
    "    n_resamples: int = 10_000,\n",
    "    confidence_level: float = 0.95,\n",
    ") -> ConfidenceInterval:\n",
    "    n = len(data)\n",
    "    bootstrap_data = np.ndarray((n_resamples, ), dtype=np.float32)\n",
    "\n",
    "    for i in range(n_resamples):\n",
    "        resample = prob_model(n)\n",
    "        bootstrap_data[i] = statistic(resample)\n",
    "    \n",
    "    bootstrap_data.sort()\n",
    "\n",
    "    return ConfidenceInterval(\n",
    "        low=bootstrap_data[round((1 - confidence_level) / 2 * n_resamples) - 1],\n",
    "        high=bootstrap_data[round((1 + confidence_level) / 2 * n_resamples) - 1]\n",
    "    )\n",
    "\n",
    "\n",
    "parametric_bootstrap_teta = parametric_bootstrap(\n",
    "    data,\n",
    "    func,\n",
    "    lambda n: np.power((1 - np.random.rand(n)), 1 / (1 - assessment_teta)),\n",
    "    n_resamples=50_000, \n",
    "    confidence_level=0.95\n",
    ")\n",
    "\n",
    "parametric_bootstrap_teta = (assessment_teta - parametric_bootstrap_teta.high, assessment_teta - parametric_bootstrap_teta.low)\n",
    "print(\"доверительный интервал - \",parametric_bootstrap_teta, \"\\nдлина интервала -\",parametric_bootstrap_teta[1] - parametric_bootstrap_teta[0])"
   ]
  },
  {
   "cell_type": "markdown",
   "metadata": {},
   "source": [
    "Непараметрический бутстрап для оценки медианы"
   ]
  },
  {
   "cell_type": "code",
   "execution_count": 12,
   "metadata": {},
   "outputs": [
    {
     "name": "stdout",
     "output_type": "stream",
     "text": [
      "доверительный интервал -  (1.7522965436147142, 2.2456136084953253) \n",
      "длина интервала - 0.4933170648806111\n"
     ]
    }
   ],
   "source": [
    "func = lambda x: np.power(2, 1 / (n / np.sum(np.log(x)))) - assessment_med\n",
    "non_parametric_bootstrap_med = st.bootstrap(\n",
    "    (data, ), \n",
    "    func, \n",
    "    n_resamples=1_000, \n",
    "    method='basic',\n",
    "    confidence_level=0.95\n",
    ").confidence_interval\n",
    "\n",
    "non_parametric_bootstrap_med  = (assessment_med - non_parametric_bootstrap_med .high, assessment_med - non_parametric_bootstrap_med .low)\n",
    "print(\"доверительный интервал - \",non_parametric_bootstrap_med, \"\\nдлина интервала -\",non_parametric_bootstrap_med[1] - non_parametric_bootstrap_med[0])"
   ]
  },
  {
   "cell_type": "markdown",
   "metadata": {},
   "source": [
    "Параметрический бутстрап для оценки медианы"
   ]
  },
  {
   "cell_type": "code",
   "execution_count": 13,
   "metadata": {},
   "outputs": [
    {
     "name": "stdout",
     "output_type": "stream",
     "text": [
      "доверительный интервал -  (1.6795738090737002, 2.208889042304291) \n",
      "длина интервала - 0.5293152332305906\n"
     ]
    }
   ],
   "source": [
    "from collections.abc import Callable\n",
    "from typing import NamedTuple\n",
    "\n",
    "\n",
    "class ConfidenceInterval(NamedTuple):\n",
    "    low: float\n",
    "    high: float\n",
    "\n",
    "\n",
    "def parametric_bootstrap(\n",
    "    data: np.ndarray,\n",
    "    statistic: Callable[[np.ndarray], float],\n",
    "    prob_model: Callable[[int], np.ndarray],\n",
    "    n_resamples: int = 10_000,\n",
    "    confidence_level: float = 0.95,\n",
    ") -> ConfidenceInterval:\n",
    "    n = len(data)\n",
    "    bootstrap_data = np.ndarray((n_resamples, ), dtype=np.float32)\n",
    "\n",
    "    for i in range(n_resamples):\n",
    "        resample = prob_model(n)\n",
    "        bootstrap_data[i] = statistic(resample)\n",
    "    \n",
    "    bootstrap_data.sort()\n",
    "\n",
    "    return ConfidenceInterval(\n",
    "        low=bootstrap_data[round((1 - confidence_level) / 2 * n_resamples) - 1],\n",
    "        high=bootstrap_data[round((1 + confidence_level) / 2 * n_resamples) - 1]\n",
    "    )\n",
    "\n",
    "\n",
    "parametric_bootstrap_med = parametric_bootstrap(\n",
    "    data,\n",
    "    func,\n",
    "    lambda n: np.power(np.random.rand(n), 1 / (1 - assessment_teta)),\n",
    "    n_resamples=50_000, \n",
    "    confidence_level=0.95\n",
    ")\n",
    "\n",
    "parametric_bootstrap_med = (assessment_med - parametric_bootstrap_med.high, assessment_med - parametric_bootstrap_med.low)\n",
    "print(\"доверительный интервал - \",parametric_bootstrap_med, \"\\nдлина интервала -\",parametric_bootstrap_med[1] - parametric_bootstrap_med[0])"
   ]
  },
  {
   "cell_type": "markdown",
   "metadata": {},
   "source": [
    "Сравнение"
   ]
  },
  {
   "cell_type": "code",
   "execution_count": 14,
   "metadata": {},
   "outputs": [
    {
     "name": "stdout",
     "output_type": "stream",
     "text": [
      "Для теты\n",
      "\n",
      "an_res_teta = (1.8178507367061918, 2.2166038322146835)\n",
      "\n",
      "non_parametric_bootstrap_teta = (1.8661863260403126, 2.2410012524014027)\n",
      "\n",
      "parametric_bootstrap_teta = (1.7847741915277364, 2.1906579656890752)\n",
      "\n",
      "\n",
      "Для медианы\n",
      "\n",
      "an_res_med = (1.71266479897473, 2.2406544624298115)\n",
      "\n",
      "non_parametric_bootstrap_med = (1.7522965436147142, 2.2456136084953253)\n",
      "\n",
      "parametric_bootstrap_med = (1.6795738090737002, 2.208889042304291)\n"
     ]
    }
   ],
   "source": [
    "print(\n",
    "    \"Для теты\",\n",
    "    f\"{an_res_teta = }\",\n",
    "    f\"{non_parametric_bootstrap_teta = }\",\n",
    "    f\"{parametric_bootstrap_teta = }\",\n",
    "    \"\\nДля медианы\",\n",
    "    f\"{an_res_med = }\",\n",
    "    f\"{non_parametric_bootstrap_med = }\",\n",
    "    f\"{parametric_bootstrap_med = }\",\n",
    "    sep=\"\\n\\n\"\n",
    ")"
   ]
  }
 ],
 "metadata": {
  "kernelspec": {
   "display_name": "Python 3",
   "language": "python",
   "name": "python3"
  },
  "language_info": {
   "codemirror_mode": {
    "name": "ipython",
    "version": 3
   },
   "file_extension": ".py",
   "mimetype": "text/x-python",
   "name": "python",
   "nbconvert_exporter": "python",
   "pygments_lexer": "ipython3",
   "version": "3.11.11"
  }
 },
 "nbformat": 4,
 "nbformat_minor": 2
}
