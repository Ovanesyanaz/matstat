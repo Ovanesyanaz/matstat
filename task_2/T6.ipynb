{
 "cells": [
  {
   "cell_type": "code",
   "execution_count": 39,
   "metadata": {},
   "outputs": [],
   "source": [
    "import numpy as np\n",
    "from scipy import stats as st\n",
    "from matplotlib import pyplot as plt\n",
    "\n",
    "%matplotlib inline"
   ]
  },
  {
   "cell_type": "code",
   "execution_count": 40,
   "metadata": {},
   "outputs": [],
   "source": [
    "n = 100\n",
    "teta = 2"
   ]
  },
  {
   "cell_type": "markdown",
   "metadata": {},
   "source": [
    "Генерация выборки"
   ]
  },
  {
   "cell_type": "code",
   "execution_count": 41,
   "metadata": {},
   "outputs": [
    {
     "data": {
      "text/plain": [
       "array([ 2.94326539,  1.00834124,  9.67166598,  4.99144181,  1.32430622,\n",
       "        2.44823894,  2.71173605,  3.55755048,  1.3071978 ,  4.29150979,\n",
       "        1.65588817,  6.93199257,  1.7304012 ,  1.26855646,  4.81519764,\n",
       "        9.80819533,  1.80356272,  1.57917453,  3.10464579,  4.55277119,\n",
       "        3.38309083,  1.8043798 ,  1.20173656,  1.03243104, 12.40255409,\n",
       "        2.8190704 ,  6.92184469, 24.71015462,  2.08022266,  1.99675401,\n",
       "        1.1240385 ,  1.99857564,  3.84011853,  2.56964713,  1.18229325,\n",
       "        1.36246639,  1.22077079,  2.81143196,  1.07656767,  2.04756906,\n",
       "        1.09274034,  1.09621394,  1.53948146,  6.0076231 ,  4.75119457,\n",
       "        1.5503766 ,  1.32508971,  1.3615539 ,  1.92298291,  1.39681947,\n",
       "        1.20203698,  3.50410905,  2.13965528,  1.71372043,  1.1547032 ,\n",
       "        1.14114004,  1.17568665,  1.08661658,  6.43585405,  1.21766304,\n",
       "        1.56871523,  3.908006  ,  9.94047208,  1.08402532,  2.6253209 ,\n",
       "        1.02188967,  1.65189096,  2.35372928, 25.53717881,  4.76582882,\n",
       "       11.07680776,  7.32722172,  1.82829234, 12.47648641,  1.6296062 ,\n",
       "        2.27457528, 11.60669866,  1.69438225,  1.7613621 ,  1.75753821,\n",
       "        1.63368945,  4.1565898 ,  1.51735818,  1.78066443,  3.59981562,\n",
       "        1.03657585,  1.45499048, 31.42589325,  1.4356822 ,  3.41342063,\n",
       "        1.25263657,  1.12448529,  1.0316522 , 23.32508437,  1.37363066,\n",
       "        5.39889384, 13.80083191,  2.80109438,  1.87172039,  3.87101731])"
      ]
     },
     "execution_count": 41,
     "metadata": {},
     "output_type": "execute_result"
    }
   ],
   "source": [
    "data = np.power(np.random.rand(n), 1 / (1 - teta))\n",
    "data"
   ]
  },
  {
   "cell_type": "markdown",
   "metadata": {},
   "source": [
    "вычисление полученных аналитически доверительных интервалов"
   ]
  },
  {
   "cell_type": "code",
   "execution_count": 42,
   "metadata": {},
   "outputs": [],
   "source": [
    "beta = 0.95\n",
    "t1 = -1.96\n",
    "t2 = 1.96"
   ]
  },
  {
   "cell_type": "markdown",
   "metadata": {},
   "source": [
    "оценка"
   ]
  },
  {
   "cell_type": "code",
   "execution_count": 43,
   "metadata": {},
   "outputs": [
    {
     "data": {
      "text/plain": [
       "2.052298473581029"
      ]
     },
     "execution_count": 43,
     "metadata": {},
     "output_type": "execute_result"
    }
   ],
   "source": [
    "assessment_teta = (n / np.sum(np.log(data))) + 1\n",
    "assessment_teta"
   ]
  },
  {
   "cell_type": "code",
   "execution_count": 44,
   "metadata": {},
   "outputs": [
    {
     "name": "stdout",
     "output_type": "stream",
     "text": [
      "h1 - 1.8460479727591472\n",
      "h2 - 2.2585489744029106\n",
      "длина интервала - 0.41250100164376335\n"
     ]
    }
   ],
   "source": [
    "h1 = assessment_teta + t1 * (assessment_teta - 1) / n**0.5\n",
    "h2 = assessment_teta + t2 * (assessment_teta - 1) / n**0.5\n",
    "print(f\"h1 - {h1}\\nh2 - {h2}\\nдлина интервала - {h2 - h1}\")\n",
    "an_res_teta = (h1,h2)"
   ]
  },
  {
   "cell_type": "markdown",
   "metadata": {},
   "source": [
    "оценка медианы"
   ]
  },
  {
   "cell_type": "code",
   "execution_count": 45,
   "metadata": {},
   "outputs": [
    {
     "data": {
      "text/plain": [
       "1.9322753892712774"
      ]
     },
     "execution_count": 45,
     "metadata": {},
     "output_type": "execute_result"
    }
   ],
   "source": [
    "assessment_med = np.power(2, 1 / (assessment_teta - 1))\n",
    "assessment_med"
   ]
  },
  {
   "cell_type": "code",
   "execution_count": 46,
   "metadata": {},
   "outputs": [
    {
     "name": "stdout",
     "output_type": "stream",
     "text": [
      "h1 - 1.6828092451440786\n",
      "h2 - 2.181741533398476\n",
      "длина интервала - 0.4989322882543976\n"
     ]
    }
   ],
   "source": [
    "h1 = t1 * assessment_med * np.log(2) / (assessment_teta - 1) / np.sqrt(n) + assessment_med\n",
    "h2 = t2 * assessment_med * np.log(2) / (assessment_teta - 1) / np.sqrt(n) + assessment_med\n",
    "print(f\"h1 - {h1}\\nh2 - {h2}\\nдлина интервала - {h2 - h1}\")\n",
    "an_res_med = (h1,h2)"
   ]
  },
  {
   "cell_type": "markdown",
   "metadata": {},
   "source": [
    "Непараметрический бутстрап для оценки теты"
   ]
  },
  {
   "cell_type": "code",
   "execution_count": 47,
   "metadata": {},
   "outputs": [
    {
     "name": "stdout",
     "output_type": "stream",
     "text": [
      "доверительный интервал -  (1.8939236902890424, 2.2494639209754705) \n",
      "длина интервала - 0.35554023068642815\n"
     ]
    }
   ],
   "source": [
    "func = lambda x: (n / np.sum(np.log(x))) + 1 - assessment_teta\n",
    "non_parametric_bootstrap_teta = st.bootstrap(\n",
    "    (data, ), \n",
    "    func, \n",
    "    n_resamples=1_000, \n",
    "    method='basic',\n",
    "    confidence_level=0.95\n",
    ").confidence_interval\n",
    "\n",
    "non_parametric_bootstrap_teta = (assessment_teta - non_parametric_bootstrap_teta.high, assessment_teta - non_parametric_bootstrap_teta.low)\n",
    "print(\"доверительный интервал - \",non_parametric_bootstrap_teta, \"\\nдлина интервала -\",non_parametric_bootstrap_teta[1] - non_parametric_bootstrap_teta[0])"
   ]
  },
  {
   "cell_type": "markdown",
   "metadata": {},
   "source": [
    "Параметрический бутстрап для оценки теты"
   ]
  },
  {
   "cell_type": "code",
   "execution_count": 48,
   "metadata": {},
   "outputs": [
    {
     "name": "stdout",
     "output_type": "stream",
     "text": [
      "доверительный интервал -  (1.812529089316083, 2.2287761293494235) \n",
      "длина интервала - 0.41624704003334045\n"
     ]
    }
   ],
   "source": [
    "from collections.abc import Callable\n",
    "from typing import NamedTuple\n",
    "\n",
    "\n",
    "class ConfidenceInterval(NamedTuple):\n",
    "    low: float\n",
    "    high: float\n",
    "\n",
    "\n",
    "def parametric_bootstrap(\n",
    "    data: np.ndarray,\n",
    "    statistic: Callable[[np.ndarray], float],\n",
    "    prob_model: Callable[[int], np.ndarray],\n",
    "    n_resamples: int = 10_000,\n",
    "    confidence_level: float = 0.95,\n",
    ") -> ConfidenceInterval:\n",
    "    n = len(data)\n",
    "    bootstrap_data = np.ndarray((n_resamples, ), dtype=np.float32)\n",
    "\n",
    "    for i in range(n_resamples):\n",
    "        resample = prob_model(n)\n",
    "        bootstrap_data[i] = statistic(resample)\n",
    "    \n",
    "    bootstrap_data.sort()\n",
    "\n",
    "    return ConfidenceInterval(\n",
    "        low=bootstrap_data[round((1 - confidence_level) / 2 * n_resamples) - 1],\n",
    "        high=bootstrap_data[round((1 + confidence_level) / 2 * n_resamples) - 1]\n",
    "    )\n",
    "\n",
    "\n",
    "parametric_bootstrap_teta = parametric_bootstrap(\n",
    "    data,\n",
    "    func,\n",
    "    lambda n: np.power(np.random.rand(n), 1 / (1 - assessment_teta)),\n",
    "    n_resamples=50_000, \n",
    "    confidence_level=0.95\n",
    ")\n",
    "\n",
    "parametric_bootstrap_teta = (assessment_teta - parametric_bootstrap_teta.high, assessment_teta - parametric_bootstrap_teta.low)\n",
    "print(\"доверительный интервал - \",parametric_bootstrap_teta, \"\\nдлина интервала -\",parametric_bootstrap_teta[1] - parametric_bootstrap_teta[0])"
   ]
  },
  {
   "cell_type": "markdown",
   "metadata": {},
   "source": [
    "Непараметрический бутстрап для оценки медианы"
   ]
  },
  {
   "cell_type": "code",
   "execution_count": 49,
   "metadata": {},
   "outputs": [
    {
     "name": "stdout",
     "output_type": "stream",
     "text": [
      "доверительный интервал -  (1.7259015902378363, 2.1798902641526405) \n",
      "длина интервала - 0.45398867391480424\n"
     ]
    }
   ],
   "source": [
    "func = lambda x: np.power(2, 1 / (n / np.sum(np.log(x)))) - assessment_med\n",
    "non_parametric_bootstrap_med = st.bootstrap(\n",
    "    (data, ), \n",
    "    func, \n",
    "    n_resamples=1_000, \n",
    "    method='basic',\n",
    "    confidence_level=0.95\n",
    ").confidence_interval\n",
    "\n",
    "non_parametric_bootstrap_med  = (assessment_med - non_parametric_bootstrap_med .high, assessment_med - non_parametric_bootstrap_med .low)\n",
    "print(\"доверительный интервал - \",non_parametric_bootstrap_med, \"\\nдлина интервала -\",non_parametric_bootstrap_med[1] - non_parametric_bootstrap_med[0])"
   ]
  },
  {
   "cell_type": "markdown",
   "metadata": {},
   "source": [
    "Параметрический бутстрап для оценки медианы"
   ]
  },
  {
   "cell_type": "code",
   "execution_count": 50,
   "metadata": {},
   "outputs": [
    {
     "name": "stdout",
     "output_type": "stream",
     "text": [
      "доверительный интервал -  (1.7770338229977618, 2.275873707994176) \n",
      "длина интервала - 0.4988398849964142\n"
     ]
    }
   ],
   "source": [
    "from collections.abc import Callable\n",
    "from typing import NamedTuple\n",
    "\n",
    "\n",
    "class ConfidenceInterval(NamedTuple):\n",
    "    low: float\n",
    "    high: float\n",
    "\n",
    "\n",
    "def parametric_bootstrap(\n",
    "    data: np.ndarray,\n",
    "    statistic: Callable[[np.ndarray], float],\n",
    "    prob_model: Callable[[int], np.ndarray],\n",
    "    n_resamples: int = 10_000,\n",
    "    confidence_level: float = 0.95,\n",
    ") -> ConfidenceInterval:\n",
    "    n = len(data)\n",
    "    bootstrap_data = np.ndarray((n_resamples, ), dtype=np.float32)\n",
    "\n",
    "    for i in range(n_resamples):\n",
    "        resample = prob_model(n)\n",
    "        bootstrap_data[i] = statistic(resample)\n",
    "    \n",
    "    bootstrap_data.sort()\n",
    "\n",
    "    return ConfidenceInterval(\n",
    "        low=bootstrap_data[round((1 - confidence_level) / 2 * n_resamples) - 1],\n",
    "        high=bootstrap_data[round((1 + confidence_level) / 2 * n_resamples) - 1]\n",
    "    )\n",
    "\n",
    "\n",
    "parametric_bootstrap_med = parametric_bootstrap(\n",
    "    data,\n",
    "    func,\n",
    "    lambda n: np.power(np.random.rand(n), 1 / (1 - assessment_teta)),\n",
    "    n_resamples=50_000, \n",
    "    confidence_level=0.95\n",
    ")\n",
    "\n",
    "parametric_bootstrap_med = (assessment_teta - parametric_bootstrap_med.high, assessment_teta - parametric_bootstrap_med.low)\n",
    "print(\"доверительный интервал - \",parametric_bootstrap_med, \"\\nдлина интервала -\",parametric_bootstrap_med[1] - parametric_bootstrap_med[0])"
   ]
  },
  {
   "cell_type": "markdown",
   "metadata": {},
   "source": [
    "Сравнение"
   ]
  },
  {
   "cell_type": "code",
   "execution_count": 51,
   "metadata": {},
   "outputs": [
    {
     "name": "stdout",
     "output_type": "stream",
     "text": [
      "Для теты\n",
      "\n",
      "an_res_teta = (1.8460479727591472, 2.2585489744029106)\n",
      "\n",
      "non_parametric_bootstrap_teta = (1.8939236902890424, 2.2494639209754705)\n",
      "\n",
      "parametric_bootstrap_teta = (1.812529089316083, 2.2287761293494235)\n",
      "\n",
      "\n",
      "Для медианы\n",
      "\n",
      "an_res_med = (1.6828092451440786, 2.181741533398476)\n",
      "\n",
      "non_parametric_bootstrap_med = (1.7259015902378363, 2.1798902641526405)\n",
      "\n",
      "parametric_bootstrap_med = (1.7770338229977618, 2.275873707994176)\n"
     ]
    }
   ],
   "source": [
    "print(\n",
    "    \"Для теты\",\n",
    "    f\"{an_res_teta = }\",\n",
    "    f\"{non_parametric_bootstrap_teta = }\",\n",
    "    f\"{parametric_bootstrap_teta = }\",\n",
    "    \"\\nДля медианы\",\n",
    "    f\"{an_res_med = }\",\n",
    "    f\"{non_parametric_bootstrap_med = }\",\n",
    "    f\"{parametric_bootstrap_med = }\",\n",
    "    sep=\"\\n\\n\"\n",
    ")"
   ]
  }
 ],
 "metadata": {
  "kernelspec": {
   "display_name": "Python 3",
   "language": "python",
   "name": "python3"
  },
  "language_info": {
   "codemirror_mode": {
    "name": "ipython",
    "version": 3
   },
   "file_extension": ".py",
   "mimetype": "text/x-python",
   "name": "python",
   "nbconvert_exporter": "python",
   "pygments_lexer": "ipython3",
   "version": "3.11.11"
  }
 },
 "nbformat": 4,
 "nbformat_minor": 2
}
