{
 "cells": [
  {
   "cell_type": "code",
   "execution_count": 1,
   "metadata": {},
   "outputs": [],
   "source": [
    "import numpy as np\n",
    "from scipy import stats as st"
   ]
  },
  {
   "cell_type": "code",
   "execution_count": 7,
   "metadata": {},
   "outputs": [],
   "source": [
    "teta = 10\n",
    "n = 100"
   ]
  },
  {
   "cell_type": "code",
   "execution_count": 8,
   "metadata": {},
   "outputs": [
    {
     "data": {
      "text/plain": [
       "array([17.84371725, 13.58917982, 17.60346578, 18.58795642, 19.24747901,\n",
       "       13.16614698, 13.872367  , 10.62794169, 17.4248122 , 15.0082428 ,\n",
       "       12.58853599, 10.12126728, 15.04009972, 15.91969297, 12.71054673,\n",
       "       18.33897187, 17.1139887 , 12.18280997, 12.02930956, 13.70501971,\n",
       "       13.94882276, 13.9568201 , 13.22783076, 14.25300831, 18.3930961 ,\n",
       "       10.47949937, 10.2766708 , 17.0195793 , 15.98581225, 19.12666477,\n",
       "       14.50779757, 13.45542374, 19.91782426, 17.42032831, 14.23754293,\n",
       "       17.1305333 , 12.61478276, 11.3083398 , 10.95940051, 14.81012685,\n",
       "       16.97660222, 12.54487204, 13.03197522, 10.46704494, 12.00823508,\n",
       "       18.32231208, 13.09037223, 17.71745603, 11.20091676, 11.1072868 ,\n",
       "       11.01145756, 10.65570393, 17.12471422, 16.3985633 , 17.05120151,\n",
       "       19.82543881, 17.81681708, 10.21755728, 13.05814214, 13.63719354,\n",
       "       16.10260714, 12.68568161, 16.34654539, 17.40254635, 11.6413865 ,\n",
       "       12.07169376, 15.62928352, 11.97504083, 14.11599143, 11.49299522,\n",
       "       14.09965673, 13.82128119, 18.84715103, 11.03146809, 13.02121214,\n",
       "       19.91483792, 14.81361873, 13.19469811, 12.60723295, 18.52101642,\n",
       "       12.91912658, 16.51854666, 13.20405557, 18.77254259, 17.91472864,\n",
       "       11.96939624, 11.27981139, 16.4972359 , 12.76479645, 19.25412514,\n",
       "       14.12918845, 13.21868147, 12.48834828, 16.19632925, 19.6676147 ,\n",
       "       18.87616655, 19.23331896, 14.46970278, 13.76828201, 17.25851513])"
      ]
     },
     "execution_count": 8,
     "metadata": {},
     "output_type": "execute_result"
    }
   ],
   "source": [
    "data = teta * (np.random.rand(n) + 1)\n",
    "data"
   ]
  },
  {
   "cell_type": "code",
   "execution_count": 10,
   "metadata": {},
   "outputs": [],
   "source": [
    "assessment_teta = (len(data) + 1) / (2 * len(data) + 1) * np.max(data)\n",
    "func = lambda x: (n + 1) / (2 * n + 1) * np.max(x) - assessment_teta\n",
    "non_parametric_bootstrap_ci = st.bootstrap(\n",
    "    (data, ), \n",
    "    func, \n",
    "    n_resamples=1_000, \n",
    "    method='basic',\n",
    "    confidence_level=0.95\n",
    ").confidence_interval\n",
    "\n",
    "non_parametric_bootstrap_ci = (assessment_teta - non_parametric_bootstrap_ci.high, assessment_teta - non_parametric_bootstrap_ci.low)"
   ]
  },
  {
   "cell_type": "code",
   "execution_count": 12,
   "metadata": {},
   "outputs": [],
   "source": [
    "from collections.abc import Callable\n",
    "from typing import NamedTuple\n",
    "\n",
    "\n",
    "class ConfidenceInterval(NamedTuple):\n",
    "    low: float\n",
    "    high: float\n",
    "\n",
    "\n",
    "def parametric_bootstrap(\n",
    "    data: np.ndarray,\n",
    "    statistic: Callable[[np.ndarray], float],\n",
    "    prob_model: Callable[[int], np.ndarray],\n",
    "    n_resamples: int = 10_000,\n",
    "    confidence_level: float = 0.95,\n",
    ") -> ConfidenceInterval:\n",
    "    n = len(data)\n",
    "    bootstrap_data = np.ndarray((n_resamples, ), dtype=np.float32)\n",
    "\n",
    "    for i in range(n_resamples):\n",
    "        resample = prob_model(n)\n",
    "        bootstrap_data[i] = statistic(resample)\n",
    "    \n",
    "    bootstrap_data.sort()\n",
    "\n",
    "    return ConfidenceInterval(\n",
    "        low=bootstrap_data[round((1 - confidence_level) / 2 * n_resamples) - 1],\n",
    "        high=bootstrap_data[round((1 + confidence_level) / 2 * n_resamples) - 1]\n",
    "    )\n",
    "\n",
    "\n",
    "parametric_bootstrap_ci = parametric_bootstrap(\n",
    "    data,\n",
    "    func,\n",
    "    lambda n: np.random.uniform(assessment_teta, assessment_teta * 2, n),\n",
    "    n_resamples=50_000, \n",
    "    confidence_level=0.95\n",
    ")\n",
    "\n",
    "parametric_bootstrap_ci = (assessment_teta - parametric_bootstrap_ci.high, assessment_teta - parametric_bootstrap_ci.low)"
   ]
  },
  {
   "cell_type": "code",
   "execution_count": 14,
   "metadata": {},
   "outputs": [
    {
     "name": "stdout",
     "output_type": "stream",
     "text": [
      "exact_ci = (9.960172819506385, 10.142577435187922)\n",
      "asymptotic_ci = (9.451382045862976, 10.185308308315632)\n",
      "non_parametric_bootstrap_ci = (9.882731763139146, 10.008458956907214)\n",
      "parametric_bootstrap_ci = (9.95992072654766, 10.141406178305568)\n"
     ]
    }
   ],
   "source": [
    "exact_ci = (\n",
    "    np.max(data) / (1 + np.power(0.975, 1 / n)),\n",
    "    np.max(data) / (1 + np.power(0.025, 1 / n))\n",
    ")\n",
    "\n",
    "mean = np.mean(data)\n",
    "deviation = np.std(data)\n",
    "\n",
    "asymptotic_ci = (\n",
    "    -1.96 * np.sqrt(4 / (n * 9)) * deviation + 2 / 3 * mean,\n",
    "    1.96 * np.sqrt(4 / (n * 9)) * deviation + 2 / 3 * mean\n",
    ")\n",
    "\n",
    "print(\n",
    "    f\"{exact_ci = }\",\n",
    "    f\"{asymptotic_ci = }\",\n",
    "    f\"{non_parametric_bootstrap_ci = }\",\n",
    "    f\"{parametric_bootstrap_ci = }\",\n",
    "    sep=\"\\n\\n\"\n",
    ")"
   ]
  }
 ],
 "metadata": {
  "kernelspec": {
   "display_name": "Python 3",
   "language": "python",
   "name": "python3"
  },
  "language_info": {
   "codemirror_mode": {
    "name": "ipython",
    "version": 3
   },
   "file_extension": ".py",
   "mimetype": "text/x-python",
   "name": "python",
   "nbconvert_exporter": "python",
   "pygments_lexer": "ipython3",
   "version": "3.11.11"
  }
 },
 "nbformat": 4,
 "nbformat_minor": 2
}
