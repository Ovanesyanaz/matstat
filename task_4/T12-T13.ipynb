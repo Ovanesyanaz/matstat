{
 "cells": [
  {
   "cell_type": "code",
   "execution_count": 1,
   "id": "3c30fac6",
   "metadata": {},
   "outputs": [],
   "source": [
    "import numpy as np\n",
    "import pandas as pd\n",
    "import matplotlib.pyplot as plt\n",
    "from scipy import stats\n",
    "from IPython.display import display, Math"
   ]
  },
  {
   "cell_type": "markdown",
   "id": "85e90fa1",
   "metadata": {},
   "source": [
    "Задача №12"
   ]
  },
  {
   "cell_type": "code",
   "execution_count": null,
   "id": "34e33aa1",
   "metadata": {},
   "outputs": [
    {
     "data": {
      "text/latex": [
       "$\\displaystyle H_0:$"
      ],
      "text/plain": [
       "<IPython.core.display.Math object>"
      ]
     },
     "metadata": {},
     "output_type": "display_data"
    },
    {
     "data": {
      "text/html": [
       "<div>\n",
       "<style scoped>\n",
       "    .dataframe tbody tr th:only-of-type {\n",
       "        vertical-align: middle;\n",
       "    }\n",
       "\n",
       "    .dataframe tbody tr th {\n",
       "        vertical-align: top;\n",
       "    }\n",
       "\n",
       "    .dataframe thead th {\n",
       "        text-align: right;\n",
       "    }\n",
       "</style>\n",
       "<table border=\"1\" class=\"dataframe\">\n",
       "  <thead>\n",
       "    <tr style=\"text-align: right;\">\n",
       "      <th></th>\n",
       "      <th>1</th>\n",
       "      <th>2</th>\n",
       "      <th>3</th>\n",
       "      <th>4</th>\n",
       "    </tr>\n",
       "  </thead>\n",
       "  <tbody>\n",
       "    <tr>\n",
       "      <th>1</th>\n",
       "      <td>0.062500</td>\n",
       "      <td>0.062500</td>\n",
       "      <td>0.041667</td>\n",
       "      <td>0.083333</td>\n",
       "    </tr>\n",
       "    <tr>\n",
       "      <th>2</th>\n",
       "      <td>0.062500</td>\n",
       "      <td>0.062500</td>\n",
       "      <td>0.041667</td>\n",
       "      <td>0.083333</td>\n",
       "    </tr>\n",
       "    <tr>\n",
       "      <th>3</th>\n",
       "      <td>0.041667</td>\n",
       "      <td>0.041667</td>\n",
       "      <td>0.027778</td>\n",
       "      <td>0.055556</td>\n",
       "    </tr>\n",
       "    <tr>\n",
       "      <th>4</th>\n",
       "      <td>0.083333</td>\n",
       "      <td>0.083333</td>\n",
       "      <td>0.055556</td>\n",
       "      <td>0.111111</td>\n",
       "    </tr>\n",
       "  </tbody>\n",
       "</table>\n",
       "</div>"
      ],
      "text/plain": [
       "          1         2         3         4\n",
       "1  0.062500  0.062500  0.041667  0.083333\n",
       "2  0.062500  0.062500  0.041667  0.083333\n",
       "3  0.041667  0.041667  0.027778  0.055556\n",
       "4  0.083333  0.083333  0.055556  0.111111"
      ]
     },
     "metadata": {},
     "output_type": "display_data"
    },
    {
     "data": {
      "text/latex": [
       "$\\displaystyle H_1:$"
      ],
      "text/plain": [
       "<IPython.core.display.Math object>"
      ]
     },
     "metadata": {},
     "output_type": "display_data"
    },
    {
     "data": {
      "text/html": [
       "<div>\n",
       "<style scoped>\n",
       "    .dataframe tbody tr th:only-of-type {\n",
       "        vertical-align: middle;\n",
       "    }\n",
       "\n",
       "    .dataframe tbody tr th {\n",
       "        vertical-align: top;\n",
       "    }\n",
       "\n",
       "    .dataframe thead th {\n",
       "        text-align: right;\n",
       "    }\n",
       "</style>\n",
       "<table border=\"1\" class=\"dataframe\">\n",
       "  <thead>\n",
       "    <tr style=\"text-align: right;\">\n",
       "      <th></th>\n",
       "      <th>1</th>\n",
       "      <th>2</th>\n",
       "      <th>3</th>\n",
       "      <th>4</th>\n",
       "    </tr>\n",
       "  </thead>\n",
       "  <tbody>\n",
       "    <tr>\n",
       "      <th>1</th>\n",
       "      <td>0.0625</td>\n",
       "      <td>0.0625</td>\n",
       "      <td>0.0625</td>\n",
       "      <td>0.0625</td>\n",
       "    </tr>\n",
       "    <tr>\n",
       "      <th>2</th>\n",
       "      <td>0.0625</td>\n",
       "      <td>0.0625</td>\n",
       "      <td>0.0625</td>\n",
       "      <td>0.0625</td>\n",
       "    </tr>\n",
       "    <tr>\n",
       "      <th>3</th>\n",
       "      <td>0.0625</td>\n",
       "      <td>0.0625</td>\n",
       "      <td>0.0625</td>\n",
       "      <td>0.0625</td>\n",
       "    </tr>\n",
       "    <tr>\n",
       "      <th>4</th>\n",
       "      <td>0.0625</td>\n",
       "      <td>0.0625</td>\n",
       "      <td>0.0625</td>\n",
       "      <td>0.0625</td>\n",
       "    </tr>\n",
       "  </tbody>\n",
       "</table>\n",
       "</div>"
      ],
      "text/plain": [
       "        1       2       3       4\n",
       "1  0.0625  0.0625  0.0625  0.0625\n",
       "2  0.0625  0.0625  0.0625  0.0625\n",
       "3  0.0625  0.0625  0.0625  0.0625\n",
       "4  0.0625  0.0625  0.0625  0.0625"
      ]
     },
     "metadata": {},
     "output_type": "display_data"
    },
    {
     "data": {
      "text/latex": [
       "$\\displaystyle l:$"
      ],
      "text/plain": [
       "<IPython.core.display.Math object>"
      ]
     },
     "metadata": {},
     "output_type": "display_data"
    },
    {
     "data": {
      "text/html": [
       "<div>\n",
       "<style scoped>\n",
       "    .dataframe tbody tr th:only-of-type {\n",
       "        vertical-align: middle;\n",
       "    }\n",
       "\n",
       "    .dataframe tbody tr th {\n",
       "        vertical-align: top;\n",
       "    }\n",
       "\n",
       "    .dataframe thead th {\n",
       "        text-align: right;\n",
       "    }\n",
       "</style>\n",
       "<table border=\"1\" class=\"dataframe\">\n",
       "  <thead>\n",
       "    <tr style=\"text-align: right;\">\n",
       "      <th></th>\n",
       "      <th>1</th>\n",
       "      <th>2</th>\n",
       "      <th>3</th>\n",
       "      <th>4</th>\n",
       "    </tr>\n",
       "  </thead>\n",
       "  <tbody>\n",
       "    <tr>\n",
       "      <th>1</th>\n",
       "      <td>1.00</td>\n",
       "      <td>1.00</td>\n",
       "      <td>1.500</td>\n",
       "      <td>0.7500</td>\n",
       "    </tr>\n",
       "    <tr>\n",
       "      <th>2</th>\n",
       "      <td>1.00</td>\n",
       "      <td>1.00</td>\n",
       "      <td>1.500</td>\n",
       "      <td>0.7500</td>\n",
       "    </tr>\n",
       "    <tr>\n",
       "      <th>3</th>\n",
       "      <td>1.50</td>\n",
       "      <td>1.50</td>\n",
       "      <td>2.250</td>\n",
       "      <td>1.1250</td>\n",
       "    </tr>\n",
       "    <tr>\n",
       "      <th>4</th>\n",
       "      <td>0.75</td>\n",
       "      <td>0.75</td>\n",
       "      <td>1.125</td>\n",
       "      <td>0.5625</td>\n",
       "    </tr>\n",
       "  </tbody>\n",
       "</table>\n",
       "</div>"
      ],
      "text/plain": [
       "      1     2      3       4\n",
       "1  1.00  1.00  1.500  0.7500\n",
       "2  1.00  1.00  1.500  0.7500\n",
       "3  1.50  1.50  2.250  1.1250\n",
       "4  0.75  0.75  1.125  0.5625"
      ]
     },
     "metadata": {},
     "output_type": "display_data"
    }
   ],
   "source": [
    "alpha= 0.2\n",
    "\n",
    "vals = [1, 2, 3, 4]\n",
    "\n",
    "rho0 = np.array([1/4, 1/4, 1/6, 1/3])\n",
    "rho1 = np.array([1/4, 1/4, 1/4, 1/4])\n",
    "\n",
    "h0 = np.outer(rho0, rho0)\n",
    "h1 = np.outer(rho1, rho1)\n",
    "\n",
    "l = h1 / h0\n",
    "\n",
    "h0pd = pd.DataFrame(h0, index=vals, columns=vals)\n",
    "h1pd = pd.DataFrame(h1, index=vals, columns=vals)\n",
    "lpd = pd.DataFrame(l, index=vals, columns=vals)\n",
    "\n",
    "display(Math(r'H_0:'), h0pd)\n",
    "display(Math(r'H_1:'), h1pd)\n",
    "display(Math(r'l:'), lpd)\n"
   ]
  },
  {
   "cell_type": "markdown",
   "id": "47f1e7b2",
   "metadata": {},
   "source": [
    "$$G: l \\ge C \\qquad P(l\\ge C | H_0)\\le 0.2$$\n",
    "$$G: (3,3), (2,3), (3,2), (1,3), (3,1)$$"
   ]
  },
  {
   "cell_type": "code",
   "execution_count": 3,
   "id": "75e0370c",
   "metadata": {},
   "outputs": [
    {
     "data": {
      "text/latex": [
       "$\\displaystyle C=\\frac{33}{4}$"
      ],
      "text/plain": [
       "<IPython.core.display.Math object>"
      ]
     },
     "metadata": {},
     "output_type": "display_data"
    },
    {
     "data": {
      "text/latex": [
       "$\\displaystyle \\alpha_1=\\frac{7}{36}$"
      ],
      "text/plain": [
       "<IPython.core.display.Math object>"
      ]
     },
     "metadata": {},
     "output_type": "display_data"
    },
    {
     "data": {
      "text/latex": [
       "$\\displaystyle W=\\frac{5}{16}$"
      ],
      "text/plain": [
       "<IPython.core.display.Math object>"
      ]
     },
     "metadata": {},
     "output_type": "display_data"
    },
    {
     "data": {
      "text/latex": [
       "$\\displaystyle \\alpha_2=\\frac{11}{16}$"
      ],
      "text/plain": [
       "<IPython.core.display.Math object>"
      ]
     },
     "metadata": {},
     "output_type": "display_data"
    }
   ],
   "source": [
    "from fractions import Fraction\n",
    "\n",
    "G = np.array([[2,2], [1,2], [2, 1], [0,2], [2,0]]).T.reshape(2, 5)\n",
    "\n",
    "C = Fraction(np.sum(l[G[0], G[1]]))\n",
    "alpha1 = Fraction(np.sum(h0[G[0], G[1]])).limit_denominator()\n",
    "W = Fraction(np.sum(h1[G[0], G[1]]))\n",
    "alpha2 = 1-W\n",
    "\n",
    "display(Math(r'C=\\frac{{{num}}}{{{den}}}'.format(num = C.numerator, den = C.denominator)))\n",
    "display(Math(r'\\alpha_1=\\frac{{{num}}}{{{den}}}'.format(num = alpha1.numerator, den = alpha1.denominator)))\n",
    "display(Math(r'W=\\frac{{{num}}}{{{den}}}'.format(num = W.numerator, den = W.denominator)))\n",
    "display(Math(r'\\alpha_2=\\frac{{{num}}}{{{den}}}'.format(num = alpha2.numerator, den = alpha2.denominator)))\n",
    "\n"
   ]
  },
  {
   "cell_type": "markdown",
   "id": "0e1ff32b",
   "metadata": {},
   "source": [
    "График мощности задача №13"
   ]
  },
  {
   "cell_type": "code",
   "execution_count": 4,
   "id": "fa74130e",
   "metadata": {},
   "outputs": [
    {
     "data": {
      "image/png": "[encoded data removed]",
      "text/plain": [
       "<Figure size 640x480 with 1 Axes>"
      ]
     },
     "metadata": {},
     "output_type": "display_data"
    }
   ],
   "source": [
    "x = np.linspace(-1, 3, 1000)\n",
    "fig, ax = plt.subplots(1, 1)\n",
    "ax.plot(x, stats.f.sf(1.272 * x, 138, 999) + stats.f.cdf(0.767 * x, 138, 999))\n",
    "ax.set_ylabel(\"Мощность критерия\")\n",
    "ax.set_xlabel(\"Отношение дисперсий\")\n",
    "ax.grid()"
   ]
  }
 ],
 "metadata": {
  "kernelspec": {
   "display_name": "Python 3",
   "language": "python",
   "name": "python3"
  },
  "language_info": {
   "codemirror_mode": {
    "name": "ipython",
    "version": 3
   },
   "file_extension": ".py",
   "mimetype": "text/x-python",
   "name": "python",
   "nbconvert_exporter": "python",
   "pygments_lexer": "ipython3",
   "version": "3.11.11"
  }
 },
 "nbformat": 4,
 "nbformat_minor": 5
}
