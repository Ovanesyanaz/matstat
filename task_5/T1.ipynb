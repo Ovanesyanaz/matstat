{
 "cells": [
  {
   "cell_type": "code",
   "execution_count": 156,
   "id": "e64a3467-8e58-4618-866f-9639795d91d3",
   "metadata": {},
   "outputs": [],
   "source": [
    "import numpy as np\n",
    "import scipy.stats as st\n",
    "import matplotlib.pyplot as plt\n",
    "from sklearn.utils import resample"
   ]
  },
  {
   "cell_type": "code",
   "execution_count": 134,
   "id": "fe2bda6d-8b5d-40f8-a163-2a0fae88be14",
   "metadata": {},
   "outputs": [],
   "source": [
    "n = 50\n",
    "p = 6\n",
    "nx = 5\n",
    "alpha = 0.05\n",
    "\n",
    "x = np.concatenate([np.ones((n, 1)), np.random.uniform(-1, 1, (n, nx))], axis=1)\n",
    "y = np.apply_along_axis(\n",
    "    lambda x: np.random.normal(\n",
    "        np.array([2, 3, -2, 1, 1, -1]) @ x, 1.5\n",
    "    ),\n",
    "    1,\n",
    "    x\n",
    ")"
   ]
  },
  {
   "cell_type": "code",
   "execution_count": 135,
   "id": "7d171c42-1ce7-4a3e-ad54-1269bc26e071",
   "metadata": {},
   "outputs": [],
   "source": [
    "def r2(x, y):\n",
    "    f = x.T @ x\n",
    "    f_inv = np.linalg.inv(f)\n",
    "    beta = f_inv @ x.T @ y\n",
    "    rss = np.sum((y - x @ beta) ** 2)\n",
    "    tss = np.sum((y - np.mean(y)) ** 2)\n",
    "    return float((tss - rss) / tss)"
   ]
  },
  {
   "cell_type": "markdown",
   "id": "272f1900",
   "metadata": {},
   "source": [
    "# Пункт А"
   ]
  },
  {
   "cell_type": "markdown",
   "id": "77d83bd9",
   "metadata": {},
   "source": [
    "Мультиколлинеарность"
   ]
  },
  {
   "cell_type": "code",
   "execution_count": 136,
   "id": "f1c6b5a0-c083-4029-be5d-d8966d044dfc",
   "metadata": {},
   "outputs": [
    {
     "name": "stdout",
     "output_type": "stream",
     "text": [
      "1: R^2 = 0.012549325110496666\n",
      "2: R^2 = 0.09022444527024763\n",
      "3: R^2 = 0.041381612500100536\n",
      "4: R^2 = 0.06698441694837119\n",
      "5: R^2 = 0.057336732630703324\n"
     ]
    }
   ],
   "source": [
    "for i in range(nx):\n",
    "    mask = [0, 0, 0, 0, 0, 0]\n",
    "    mask[i + 1] = 1\n",
    "    mask = np.array(mask, dtype=np.bool_)\n",
    "    print(f\"{i + 1}: R^2 = {r2(x[:, ~mask], x[:, mask])}\")"
   ]
  },
  {
   "cell_type": "markdown",
   "id": "f9ffcee6-5f81-4bde-9ee4-67b08b76ce03",
   "metadata": {},
   "source": [
    "т.к все $ R^{2} < 0.7 $, то мультиколлинеарности нет"
   ]
  },
  {
   "cell_type": "markdown",
   "id": "91fe41ea",
   "metadata": {},
   "source": [
    "# Пункт B"
   ]
  },
  {
   "cell_type": "code",
   "execution_count": 137,
   "id": "20519d98",
   "metadata": {},
   "outputs": [],
   "source": [
    "from scipy.stats import t"
   ]
  },
  {
   "cell_type": "code",
   "execution_count": 138,
   "id": "0bb8e82c-cfe6-408b-a562-79994d53a55a",
   "metadata": {},
   "outputs": [
    {
     "name": "stdout",
     "output_type": "stream",
     "text": [
      "beta = array([ 1.9412572 ,  2.74869615, -1.87599059,  1.199763  ,  0.72097973,\n",
      "       -1.22808496])\n",
      "\n",
      "rss = 121.01853334842542\n",
      "\n",
      "beta0: delta = 8.145452416424085 f_inv[i, i] = 0.02065078316112111 p_val = 2.4960949840853276e-10\n",
      "beta1: delta = 6.443048522792869 f_inv[i, i] = 0.0661715724923107 p_val = 7.523631411645969e-08\n",
      "beta2: delta = -4.350610008885108 f_inv[i, i] = 0.06760235009748417 p_val = 7.948138977866038e-05\n",
      "beta3: delta = 2.8081969283531283 f_inv[i, i] = 0.06636461830578354 p_val = 0.0074010446633569205\n",
      "beta4: delta = 1.6755385100610904 f_inv[i, i] = 0.06731906504810257 p_val = 0.1009220244173141\n",
      "beta5: delta = -2.931076123672162 f_inv[i, i] = 0.06382685116887758 p_val = 0.00534021554353816\n"
     ]
    }
   ],
   "source": [
    "F = x.T @ x\n",
    "F_inv = np.linalg.inv(F)\n",
    "beta = F_inv @ x.T @ y\n",
    "print(f\"{beta = }\", end=\"\\n\\n\")\n",
    "\n",
    "rss = float(np.sum((y - x @ beta) ** 2))\n",
    "print(f\"{rss = }\", end=\"\\n\\n\")\n",
    "for i in range(p):\n",
    "    delta = float(beta[i] / np.sqrt(rss * F_inv[i, i]) * np.sqrt(n - p))\n",
    "    p_val = float(2 * t.sf(abs(delta), n - p))\n",
    "    print(f\"beta{i}: {delta = } f_inv[i, i] = {float(F_inv[i, i])} {p_val = }\")"
   ]
  },
  {
   "cell_type": "markdown",
   "id": "e9b5e320-873b-4fcf-9f00-3b4ac760fc88",
   "metadata": {},
   "source": [
    "## beta 4 - не значим"
   ]
  },
  {
   "cell_type": "markdown",
   "id": "1550dcc8",
   "metadata": {},
   "source": [
    "# Пункт С"
   ]
  },
  {
   "cell_type": "markdown",
   "id": "b67ef910",
   "metadata": {},
   "source": [
    "коэффицент детерминации"
   ]
  },
  {
   "cell_type": "code",
   "execution_count": 139,
   "id": "49164eda-c522-41af-8e0b-1a6dd02c6772",
   "metadata": {},
   "outputs": [
    {
     "name": "stdout",
     "output_type": "stream",
     "text": [
      "rss = 121.01853334842542 tss = 322.980658478682 R^2 = 0.6253071811839992\n",
      "delta = 14.685905141729949 p_val = 1.810438848761455e-08\n"
     ]
    }
   ],
   "source": [
    "tss = float(np.sum((y - np.mean(y)) ** 2))\n",
    "r2 = float((tss - rss) / tss)\n",
    "print(f\"{rss = } {tss = } R^2 = {r2}\")\n",
    "delta = float(((tss - rss) * (n - p)) / (rss * (p - 1)))\n",
    "p_val = float(st.f.sf(delta, p - 1, n - p))\n",
    "print(f\"{delta = } {p_val = }\")"
   ]
  },
  {
   "cell_type": "markdown",
   "id": "c3838f19-c8b2-48bf-b342-40a25a3a2e18",
   "metadata": {},
   "source": [
    "## Регрессия значима"
   ]
  },
  {
   "cell_type": "markdown",
   "id": "49c11aa8",
   "metadata": {},
   "source": [
    "# Пункт D"
   ]
  },
  {
   "cell_type": "markdown",
   "id": "b05c1b0b",
   "metadata": {},
   "source": [
    "доверительный интервал "
   ]
  },
  {
   "cell_type": "code",
   "execution_count": 140,
   "id": "9cfa2290-aa11-44d0-a544-f93ffbf31b1f",
   "metadata": {},
   "outputs": [
    {
     "name": "stdout",
     "output_type": "stream",
     "text": [
      "delta = 3.376699836961502 y_estim = 1.9412571961809215 I = (-1.4354426407805807, 5.317957033142424)\n"
     ]
    }
   ],
   "source": [
    "x0 = np.array([1, 0, 0, 0, 0, 0])\n",
    "y_estim = x0 @ beta\n",
    "delta = float(st.t.isf(0.025, n - p) * np.sqrt((1 + x0 @ F_inv @ x0.T) * (rss / (n - p))))\n",
    "print(f\"{delta = } {y_estim = } I = ({y_estim - delta}, {y_estim + delta})\")"
   ]
  },
  {
   "cell_type": "markdown",
   "id": "c5433f68",
   "metadata": {},
   "source": [
    "# Пункт E"
   ]
  },
  {
   "cell_type": "code",
   "execution_count": 141,
   "id": "821a3ef9-ae2d-46e6-9255-7f782b87abf2",
   "metadata": {},
   "outputs": [
    {
     "name": "stdout",
     "output_type": "stream",
     "text": [
      "delta = -1.1794541110191612 p_val = 0.23821739921276963\n"
     ]
    }
   ],
   "source": [
    "def count_inversions(arr):\n",
    "    inv = 0\n",
    "    for i in range(len(arr)):\n",
    "        for j in range(i + 1, len(arr)):\n",
    "            if arr[i] > arr[j]:\n",
    "                inv += 1\n",
    "    return inv\n",
    "\n",
    "e = y - x @ beta\n",
    "delta = float((count_inversions(e) - n * (n - 1) / 4) / np.sqrt(n ** 3 / 36))\n",
    "p_val = 2 * st.norm.sf(abs(delta))\n",
    "print(f\"{delta = } {p_val = }\")"
   ]
  },
  {
   "cell_type": "markdown",
   "id": "43721e33-356a-4788-b839-d7e9d34a8230",
   "metadata": {},
   "source": [
    "Следовательно, нет оснований отвергать гипотезу случайности"
   ]
  },
  {
   "cell_type": "markdown",
   "id": "e6128a60",
   "metadata": {},
   "source": [
    "# Пункт F"
   ]
  },
  {
   "cell_type": "code",
   "execution_count": 142,
   "id": "cceb5c98-7ee8-47a7-9eee-99fa964015de",
   "metadata": {},
   "outputs": [
    {
     "name": "stdout",
     "output_type": "stream",
     "text": [
      "kolmogorov_delta = 0.6478101158143359\n",
      "kolmogorov_pval = 0.70126\n"
     ]
    }
   ],
   "source": [
    "from collections.abc import Callable\n",
    "\n",
    "\n",
    "def parametric_bootstrap(\n",
    "    data: np.ndarray,\n",
    "    statistic: Callable[[np.ndarray], float],\n",
    "    prob_model: Callable[[int], np.ndarray],\n",
    "    n_resamples: int = 10_000,\n",
    ") -> np.ndarray:\n",
    "    bootstrap_data = np.ndarray((n_resamples, ), dtype=np.float32)\n",
    "\n",
    "    for i in range(n_resamples):\n",
    "        resample = prob_model(n)\n",
    "        bootstrap_data[i] = statistic(resample)\n",
    "    \n",
    "    bootstrap_data.sort()\n",
    "\n",
    "    return bootstrap_data\n",
    "\n",
    "\n",
    "def statistic(data):\n",
    "    data = np.sort(data)\n",
    "\n",
    "    mean = 0\n",
    "    std = np.std(data, ddof=1)\n",
    "\n",
    "    ecdf = np.append([0], st.ecdf(data).cdf.probabilities)\n",
    "    cdf = st.norm.cdf(data, loc=mean, scale=std)\n",
    "    delta = np.sqrt(n) * np.max(np.abs(\n",
    "        np.append(\n",
    "            cdf - ecdf[:len(ecdf) - 1],\n",
    "            cdf - ecdf[1:]\n",
    "        )\n",
    "    ))\n",
    "\n",
    "    return delta\n",
    "\n",
    "\n",
    "e = y - x @ beta\n",
    "mean = 0\n",
    "std = np.std(e, ddof=1)\n",
    "n_resamples = 50_000\n",
    "bootstrap = parametric_bootstrap(\n",
    "    e,\n",
    "    statistic,\n",
    "    lambda n: np.random.normal(mean, std, n),\n",
    "    n_resamples=n_resamples,\n",
    ")\n",
    "\n",
    "ecdf = np.append([0], st.ecdf(e).cdf.probabilities)\n",
    "cdf = st.norm.cdf(np.sort(e), loc=mean, scale=std)\n",
    "kolmogorov_delta = np.sqrt(n) * np.max(np.abs(\n",
    "    np.append(\n",
    "        cdf - ecdf[:len(ecdf) - 1],\n",
    "        cdf - ecdf[1:]\n",
    "    )\n",
    "))\n",
    "kolmogorov_delta = float(kolmogorov_delta)\n",
    "\n",
    "kolmogorov_pval = np.count_nonzero(bootstrap >= kolmogorov_delta) / n_resamples\n",
    "\n",
    "print(\n",
    "    f\"{kolmogorov_delta = }\",\n",
    "    f\"{kolmogorov_pval = }\",\n",
    "    sep=\"\\n\"\n",
    ")"
   ]
  },
  {
   "cell_type": "markdown",
   "id": "e854a527-31cf-4d25-bd5c-6eb24b214a9e",
   "metadata": {},
   "source": [
    "Следовательно, нет оснований отвергать гипотезу нормальности"
   ]
  },
  {
   "cell_type": "markdown",
   "id": "32ff2c73",
   "metadata": {},
   "source": [
    "# пункт G"
   ]
  },
  {
   "cell_type": "code",
   "execution_count": 143,
   "id": "d8aefb87-d0fc-4947-978c-90a0146136c7",
   "metadata": {},
   "outputs": [
    {
     "data": {
      "text/plain": [
       "Text(0.5, 1.0, 'y')"
      ]
     },
     "execution_count": 143,
     "metadata": {},
     "output_type": "execute_result"
    },
    {
     "data": {
      "image/png": "[encoded data removed]",
      "text/plain": [
       "<Figure size 1200x400 with 2 Axes>"
      ]
     },
     "metadata": {},
     "output_type": "display_data"
    }
   ],
   "source": [
    "fig, ax = plt.subplots(1, 2, figsize=(12, 4))\n",
    "\n",
    "ax[0].boxplot(e, vert=False)\n",
    "ax[0].set_title('e')\n",
    "\n",
    "ax[1].boxplot(y, vert=False)\n",
    "ax[1].set_title('y')"
   ]
  },
  {
   "cell_type": "markdown",
   "id": "fdb2f6f2",
   "metadata": {},
   "source": [
    "# Пункт H"
   ]
  },
  {
   "cell_type": "code",
   "execution_count": 151,
   "id": "5b0921cd-a7e3-4d12-8a9a-4e2dfd6e0905",
   "metadata": {},
   "outputs": [
    {
     "name": "stdout",
     "output_type": "stream",
     "text": [
      "R^2_CV = 0.5244996482470252\n"
     ]
    }
   ],
   "source": [
    "cvss = []\n",
    "for i in range(n):\n",
    "    mask = np.zeros(50, dtype=np.bool_)\n",
    "    mask[i] = 1\n",
    "    x_train, x_test = x[~mask], x[i]\n",
    "    y_train, y_test = y[~mask], y[i]\n",
    "\n",
    "    f = x_train.T @ x_train\n",
    "    f_inv = np.linalg.inv(f)\n",
    "\n",
    "    beta = f_inv @ x_train.T @ y_train\n",
    "    cvss.append((y_test - beta @ x_test) ** 2)\n",
    "\n",
    "r2_cv = float((tss - np.sum(cvss)) / tss)\n",
    "print(f\"R^2_CV = {r2_cv}\")"
   ]
  },
  {
   "cell_type": "markdown",
   "id": "f14348cc",
   "metadata": {},
   "source": [
    "# Пункт I"
   ]
  },
  {
   "cell_type": "code",
   "execution_count": 152,
   "id": "25c30ac3-9d01-47ca-aa86-7ee6f540acfe",
   "metadata": {},
   "outputs": [
    {
     "name": "stdout",
     "output_type": "stream",
     "text": [
      "delta = 0.7726604956693562 p_val = 0.713040549732161\n"
     ]
    }
   ],
   "source": [
    "l = 5\n",
    "x0 = np.concatenate([np.ones(1), np.random.uniform(-1, 1, 5)])\n",
    "y0 = np.array([np.random.normal(\n",
    "        np.array([2, 3, -2, 1, 1, -1]) @ x0, 1.5\n",
    "    ) for _ in range(l)])\n",
    "delta = float(rss / (n - p) / np.std(y0, ddof=1) ** 2)\n",
    "p_val = float(st.f.sf(delta, n - p, l - 1) + st.f.cdf(-delta, n - p, l - 1))\n",
    "print(f\"{delta = } {p_val = }\")"
   ]
  },
  {
   "cell_type": "markdown",
   "id": "f8ca43a9-6d5c-43c5-9581-abb4c295828a",
   "metadata": {},
   "source": [
    "## Регрессия адекватна"
   ]
  },
  {
   "cell_type": "markdown",
   "id": "89ea0146",
   "metadata": {},
   "source": [
    "# Пункт J"
   ]
  },
  {
   "cell_type": "code",
   "execution_count": 159,
   "id": "abdc3735-3c7b-44f4-8d21-27e69e1d5858",
   "metadata": {},
   "outputs": [
    {
     "name": "stdout",
     "output_type": "stream",
     "text": [
      "beta_short = array([ 1.96682023,  2.71377943, -1.71167406,  1.1250044 , -1.26110117])\n",
      "\n",
      "rss_short = 128.74014644405722\n",
      "\n",
      "beta_short0: delta = 7.926205841530857 f_inv[i, i] = 0.02056615463664659 p_val = 3.016088770831133e-10\n",
      "beta_short1: delta = 6.104284966630128 f_inv[i, i] = 0.06601368095638149 p_val = 1.289193246326471e-07\n",
      "beta_short2: delta = -3.907059603937827 f_inv[i, i] = 0.06410568131516844 p_val = 0.9998371403235543\n",
      "beta_short3: delta = 2.537724275720555 f_inv[i, i] = 0.06564082553891652 p_val = 0.007431872559445236\n",
      "beta_short4: delta = -2.8880603400610645 f_inv[i, i] = 0.06368567984600747 p_val = 0.9969770087194957\n"
     ]
    }
   ],
   "source": [
    "x_short = x[:, [True, True, True, True, False, True]]\n",
    "F = x_short.T @ x_short\n",
    "F_inv = np.linalg.inv(F)\n",
    "beta_short = F_inv @ x_short.T @ y\n",
    "print(f\"{beta_short = }\", end=\"\\n\\n\")\n",
    "\n",
    "rss_short = float(np.sum((y - x_short @ beta_short) ** 2))\n",
    "print(f\"{rss_short = }\", end=\"\\n\\n\")\n",
    "for i in range(p - 1):\n",
    "    delta = float(beta_short[i] / np.sqrt(rss_short * F_inv[i, i]) * np.sqrt(n - p - 1))\n",
    "    p_val = float(st.t.sf(delta, n - p - 1))\n",
    "    print(f\"beta_short{i}: {delta = } f_inv[i, i] = {float(F_inv[i, i])} {p_val = }\")"
   ]
  },
  {
   "cell_type": "markdown",
   "id": "971b111a-b6c0-4d16-a7cc-66da69842e03",
   "metadata": {},
   "source": [
    "Следовательно, все коэффициенты кроме beta 5 и beta 3 значимы"
   ]
  },
  {
   "cell_type": "code",
   "execution_count": 160,
   "id": "3d1c4c53-b8ff-485b-af88-9b3bab33a560",
   "metadata": {},
   "outputs": [
    {
     "name": "stdout",
     "output_type": "stream",
     "text": [
      "rss_short = 128.74014644405722 tss = 322.980658478682 R^2 = 0.6013998266940973\n",
      "delta = 16.21938114913963 p_val = 3.593436762477103e-08\n"
     ]
    }
   ],
   "source": [
    "r2_short = float((tss - rss_short) / tss)\n",
    "print(f\"{rss_short = } {tss = } R^2 = {r2_short}\")\n",
    "delta = float(((tss - rss_short) * (n - p - 1)) / (rss_short * (p - 2)))\n",
    "p_val = float(st.f.sf(delta, p - 2, n - p - 1))\n",
    "print(f\"{delta = } {p_val = }\")"
   ]
  },
  {
   "cell_type": "markdown",
   "id": "ae6d2f8e-accd-4e9c-8799-3b0d3b085eae",
   "metadata": {},
   "source": [
    "Следовательно, вся регрессия значима"
   ]
  },
  {
   "cell_type": "code",
   "execution_count": 161,
   "id": "037d4f3b-6e8a-4422-93af-3c9fb1c2b3e7",
   "metadata": {},
   "outputs": [
    {
     "name": "stdout",
     "output_type": "stream",
     "text": [
      "delta = 2.80742929869774 p_val = 0.10092202441731389\n"
     ]
    }
   ],
   "source": [
    "delta = float((rss_short - rss) / (rss / (n - p)))\n",
    "p_val = float(st.f.sf(delta, 1, n - p))\n",
    "print(f\"{delta = } {p_val = }\")"
   ]
  },
  {
   "cell_type": "markdown",
   "id": "e1292414-3103-43fe-bd90-371422589736",
   "metadata": {},
   "source": [
    "Следовательно, короткая регрессия лучше длинной"
   ]
  },
  {
   "cell_type": "markdown",
   "id": "94e03ada",
   "metadata": {},
   "source": [
    "# Пункт K"
   ]
  },
  {
   "cell_type": "code",
   "execution_count": 162,
   "id": "5e852d4e",
   "metadata": {},
   "outputs": [],
   "source": [
    "def linear_regression(x, y):\n",
    "    f = x.T @ x\n",
    "    f_inv = np.linalg.inv(f)\n",
    "    beta = f_inv @ x.T @ y\n",
    "\n",
    "    return f_inv, beta\n",
    "def calc_r2(x, y):\n",
    "    _, beta = linear_regression(x, y)\n",
    "    rss = np.sum((y - x @ beta) ** 2)\n",
    "    tss = np.sum((y - np.mean(y)) ** 2)\n",
    "    return float((tss - rss) / tss)"
   ]
  },
  {
   "cell_type": "code",
   "execution_count": 158,
   "id": "585e4202-dd57-4f6a-bab3-d4ee75e1e1e7",
   "metadata": {},
   "outputs": [
    {
     "data": {
      "text/plain": [
       "(-0.2024100860689168, 0.03383261316788855)"
      ]
     },
     "execution_count": 158,
     "metadata": {},
     "output_type": "execute_result"
    }
   ],
   "source": [
    "h = r2 - r2_short\n",
    "def statistic(sample):\n",
    "    phi = sample[:, :len(sample[0]) - 1]\n",
    "    y = sample[:, -1]\n",
    "    phi_short = phi[:, [True, True, True, True, True, False]]\n",
    "\n",
    "    return (calc_r2(phi, y) - calc_r2(phi_short, y)) - h\n",
    "\n",
    "\n",
    "data = np.concatenate([x, y.reshape(-1, 1)], axis=1)\n",
    "res = []\n",
    "n_resamples = 1000\n",
    "for _ in range(n_resamples):\n",
    "    sample = resample(data, replace=True, n_samples=n)\n",
    "    res.append(statistic(sample))\n",
    "res = sorted(res)\n",
    "I = (h - res[n_resamples - 1], h - res[int(alpha * n_resamples) - 1])\n",
    "I"
   ]
  }
 ],
 "metadata": {
  "kernelspec": {
   "display_name": "Python 3",
   "language": "python",
   "name": "python3"
  },
  "language_info": {
   "codemirror_mode": {
    "name": "ipython",
    "version": 3
   },
   "file_extension": ".py",
   "mimetype": "text/x-python",
   "name": "python",
   "nbconvert_exporter": "python",
   "pygments_lexer": "ipython3",
   "version": "3.11.11"
  }
 },
 "nbformat": 4,
 "nbformat_minor": 5
}
