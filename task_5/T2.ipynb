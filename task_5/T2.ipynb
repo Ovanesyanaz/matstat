{
 "cells": [
  {
   "cell_type": "code",
   "execution_count": 29,
   "id": "240d7414",
   "metadata": {},
   "outputs": [],
   "source": [
    "import numpy as np"
   ]
  },
  {
   "cell_type": "code",
   "execution_count": 30,
   "id": "fdc934fe",
   "metadata": {},
   "outputs": [],
   "source": [
    "data = [\n",
    "    [83, 85],\n",
    "    [84, 85, 85, 86, 86, 87],\n",
    "    [86, 87, 87, 87, 88, 88, 88, 88, 88, 89, 90],\n",
    "    [89, 90, 90, 91],\n",
    "    [90, 92]\n",
    "]\n",
    "alpha = 0.05"
   ]
  },
  {
   "cell_type": "code",
   "execution_count": 31,
   "id": "c34b5bce",
   "metadata": {},
   "outputs": [],
   "source": [
    "Y = np.concatenate(data).reshape(-1, 1)\n"
   ]
  },
  {
   "cell_type": "code",
   "execution_count": 32,
   "id": "8b8b484f",
   "metadata": {},
   "outputs": [],
   "source": [
    "total_elements = sum(len(sublist) for sublist in data)\n",
    "num_groups = len(data)\n",
    "\n",
    "Psi = np.zeros((total_elements, num_groups), dtype=int)\n",
    "\n",
    "current_row = 0\n",
    "for group_idx in range(num_groups):\n",
    "    group_length = len(data[group_idx])\n",
    "    Psi[current_row:current_row + group_length, group_idx] = 1\n",
    "    current_row += group_length\n"
   ]
  },
  {
   "cell_type": "code",
   "execution_count": 33,
   "id": "4c16cc86",
   "metadata": {},
   "outputs": [
    {
     "name": "stdout",
     "output_type": "stream",
     "text": [
      "[[ 2  0  0  0  0]\n",
      " [ 0  6  0  0  0]\n",
      " [ 0  0 11  0  0]\n",
      " [ 0  0  0  4  0]\n",
      " [ 0  0  0  0  2]]\n"
     ]
    }
   ],
   "source": [
    "F = Psi.transpose() @ Psi\n",
    "print(F)"
   ]
  },
  {
   "cell_type": "code",
   "execution_count": 34,
   "id": "444a1e20",
   "metadata": {},
   "outputs": [
    {
     "name": "stdout",
     "output_type": "stream",
     "text": [
      "[[0.5        0.         0.         0.         0.        ]\n",
      " [0.         0.16666667 0.         0.         0.        ]\n",
      " [0.         0.         0.09090909 0.         0.        ]\n",
      " [0.         0.         0.         0.25       0.        ]\n",
      " [0.         0.         0.         0.         0.5       ]]\n"
     ]
    }
   ],
   "source": [
    "F_inverse = np.linalg.inv(F)\n",
    "print(F_inverse)"
   ]
  },
  {
   "cell_type": "code",
   "execution_count": 35,
   "id": "15ee0519",
   "metadata": {},
   "outputs": [
    {
     "name": "stdout",
     "output_type": "stream",
     "text": [
      "[[84.        ]\n",
      " [85.5       ]\n",
      " [87.81818182]\n",
      " [90.        ]\n",
      " [91.        ]]\n"
     ]
    }
   ],
   "source": [
    "beta = F_inverse @ Psi.T @ Y\n",
    "print(beta)"
   ]
  },
  {
   "cell_type": "code",
   "execution_count": 36,
   "id": "5c6bf7a2",
   "metadata": {},
   "outputs": [
    {
     "name": "stdout",
     "output_type": "stream",
     "text": [
      "[[-1.        ]\n",
      " [ 1.        ]\n",
      " [-1.5       ]\n",
      " [-0.5       ]\n",
      " [-0.5       ]\n",
      " [ 0.5       ]\n",
      " [ 0.5       ]\n",
      " [ 1.5       ]\n",
      " [-1.81818182]\n",
      " [-0.81818182]\n",
      " [-0.81818182]\n",
      " [-0.81818182]\n",
      " [ 0.18181818]\n",
      " [ 0.18181818]\n",
      " [ 0.18181818]\n",
      " [ 0.18181818]\n",
      " [ 0.18181818]\n",
      " [ 1.18181818]\n",
      " [ 2.18181818]\n",
      " [-1.        ]\n",
      " [ 0.        ]\n",
      " [ 0.        ]\n",
      " [ 1.        ]\n",
      " [-1.        ]\n",
      " [ 1.        ]]\n"
     ]
    }
   ],
   "source": [
    "e = Y - (Psi @ beta)\n",
    "print(e)"
   ]
  },
  {
   "cell_type": "code",
   "execution_count": 37,
   "id": "2f197446",
   "metadata": {},
   "outputs": [
    {
     "data": {
      "text/plain": [
       "23.136363636363633"
      ]
     },
     "execution_count": 37,
     "metadata": {},
     "output_type": "execute_result"
    }
   ],
   "source": [
    "RSS = (e.T @ e) [0][0]\n",
    "RSS"
   ]
  },
  {
   "cell_type": "code",
   "execution_count": 38,
   "id": "66cf385c",
   "metadata": {},
   "outputs": [
    {
     "data": {
      "text/plain": [
       "122.16"
      ]
     },
     "execution_count": 38,
     "metadata": {},
     "output_type": "execute_result"
    }
   ],
   "source": [
    "all_values = [num for group in data for num in group]\n",
    "y_mean = np.mean(all_values)\n",
    "TSS = sum((y - y_mean) ** 2 for y in all_values)\n",
    "TSS"
   ]
  },
  {
   "cell_type": "code",
   "execution_count": 39,
   "id": "7e718bad",
   "metadata": {},
   "outputs": [
    {
     "data": {
      "text/plain": [
       "0.8106060606060607"
      ]
     },
     "execution_count": 39,
     "metadata": {},
     "output_type": "execute_result"
    }
   ],
   "source": [
    "R_square = (TSS - RSS) / TSS\n",
    "R_square"
   ]
  },
  {
   "cell_type": "code",
   "execution_count": 40,
   "id": "afeb17d6",
   "metadata": {},
   "outputs": [],
   "source": [
    "from scipy.stats import f"
   ]
  },
  {
   "cell_type": "code",
   "execution_count": 41,
   "id": "501cdb78",
   "metadata": {},
   "outputs": [
    {
     "name": "stdout",
     "output_type": "stream",
     "text": [
      "delta = 21.400000000000002 p_val = 5.407435042473705e-07\n"
     ]
    }
   ],
   "source": [
    "delta = float(((TSS - RSS) * (20)) / (RSS * (4)))\n",
    "p_val = float(f.sf(delta, 4, 20) + f.cdf(-delta, 4, 20))\n",
    "print(f\"{delta = } {p_val = }\")"
   ]
  },
  {
   "cell_type": "markdown",
   "id": "62256c55",
   "metadata": {},
   "source": [
    "## Регрессия значима"
   ]
  },
  {
   "cell_type": "markdown",
   "id": "87617fa9",
   "metadata": {},
   "source": [
    "# Проверка значимости коэффицентов"
   ]
  },
  {
   "cell_type": "code",
   "execution_count": 42,
   "id": "45406b39",
   "metadata": {},
   "outputs": [],
   "source": [
    "from scipy.stats import t"
   ]
  },
  {
   "cell_type": "code",
   "execution_count": 43,
   "id": "6ff510f0",
   "metadata": {},
   "outputs": [],
   "source": [
    "df = 20 #степени свободы"
   ]
  },
  {
   "cell_type": "code",
   "execution_count": 44,
   "id": "ffd8faf1",
   "metadata": {},
   "outputs": [
    {
     "name": "stdout",
     "output_type": "stream",
     "text": [
      "p-value beta_i\n",
      "beta 1 - [2.43373331e-29]\n",
      "beta 2 - [2.92367243e-34]\n",
      "beta 3 - [4.00132213e-37]\n",
      "beta 4 - [6.03309738e-33]\n",
      "beta 5 - [4.92078904e-30]\n"
     ]
    }
   ],
   "source": [
    "print(\"p-value beta_i\")\n",
    "for i in range(len(beta)):\n",
    "    delta = (beta[i] * df**0.5) / ((RSS * F_inverse[i][i]) ** 0.5)\n",
    "    print(f\"beta {i + 1} - {2 * t.sf(delta, df)}\")"
   ]
  },
  {
   "cell_type": "markdown",
   "id": "5240fc85",
   "metadata": {},
   "source": [
    "## все беты значимы"
   ]
  },
  {
   "cell_type": "markdown",
   "id": "df54405d",
   "metadata": {},
   "source": [
    "# Проверка равенства коэффицентов регрессии"
   ]
  },
  {
   "cell_type": "code",
   "execution_count": 45,
   "id": "162fe3c3",
   "metadata": {},
   "outputs": [],
   "source": [
    "def p_value_for_equality(beta1, beta2, RSS, F_inv_ii, F_inv_jj, df):\n",
    "    delta = (beta1 - beta2) / ((RSS * (F_inv_ii + F_inv_jj)) ** 0.5)\n",
    "    return 2 * t.sf(abs(delta), df)"
   ]
  },
  {
   "cell_type": "code",
   "execution_count": 46,
   "id": "5ee787d1",
   "metadata": {},
   "outputs": [
    {
     "name": "stdout",
     "output_type": "stream",
     "text": [
      "p-value равенства beta 1 и beta 2 = 0.706537618418196\n",
      "p-value равенства beta 1 и beta 3 = 0.31409893297139535\n",
      "p-value равенства beta 1 и beta 4 = 0.16523557903947017\n",
      "p-value равенства beta 1 и beta 5 = 0.1611055473528507\n",
      "p-value равенства beta 2 и beta 3 = 0.35364296187248634\n",
      "p-value равенства beta 2 и beta 4 = 0.16274229159822798\n",
      "p-value равенства beta 2 и beta 5 = 0.17670875048429363\n",
      "p-value равенства beta 3 и beta 4 = 0.4463237073584625\n",
      "p-value равенства beta 3 и beta 5 = 0.3996941410569338\n",
      "p-value равенства beta 4 и beta 5 = 0.812726249776298\n"
     ]
    }
   ],
   "source": [
    "p_values = []\n",
    "for i in range(len(beta)):\n",
    "    for j in range(i + 1, len(beta)):\n",
    "        print(f\"p-value равенства beta {i + 1} и beta {j + 1} =\", end=\" \")\n",
    "        p_val = p_value_for_equality(beta[i], beta[j], RSS, F_inverse[i][i], F_inverse[j][j], df)\n",
    "        p_values.append(p_val[0])\n",
    "        print(p_val[0])"
   ]
  },
  {
   "cell_type": "markdown",
   "id": "826b781f",
   "metadata": {},
   "source": [
    "# Проверка Холм-Бонферрони"
   ]
  },
  {
   "cell_type": "code",
   "execution_count": 47,
   "id": "c6e51539",
   "metadata": {},
   "outputs": [
    {
     "name": "stdout",
     "output_type": "stream",
     "text": [
      "коэффиценты (1, 2) равны, p-value =  0.706537618418196 alpha/m 0.025\n",
      "коэффиценты (1, 3) равны, p-value =  0.31409893297139535 alpha/m 0.008333333333333333\n",
      "коэффиценты (1, 4) равны, p-value =  0.16523557903947017 alpha/m 0.00625\n",
      "коэффиценты (1, 5) равны, p-value =  0.1611055473528507 alpha/m 0.005\n",
      "коэффиценты (2, 3) равны, p-value =  0.35364296187248634 alpha/m 0.01\n",
      "коэффиценты (2, 4) равны, p-value =  0.16274229159822798 alpha/m 0.005555555555555556\n",
      "коэффиценты (2, 5) равны, p-value =  0.17670875048429363 alpha/m 0.0071428571428571435\n",
      "коэффиценты (3, 4) равны, p-value =  0.4463237073584625 alpha/m 0.016666666666666666\n",
      "коэффиценты (3, 5) равны, p-value =  0.3996941410569338 alpha/m 0.0125\n",
      "коэффиценты (4, 5) равны, p-value =  0.812726249776298 alpha/m 0.05\n"
     ]
    }
   ],
   "source": [
    "m = len(p_values)\n",
    "p_values = np.array(p_values)\n",
    "ind = np.argsort(p_values)\n",
    "k = 0\n",
    "for i in range(len(beta)):\n",
    "    for j in range(i+1, len(beta)):\n",
    "        mi = m - np.argwhere(ind == k)[0][0]\n",
    "        print(f\"коэффиценты {i+1, j+1} равны,\" if p_values[k] > alpha / (m - ind[k]) else f\"коэффиценты {i+1, j+1} не равны,\",\"p-value = \", p_values[k], \"alpha/m\", alpha / mi)\n",
    "        k += 1"
   ]
  },
  {
   "cell_type": "markdown",
   "id": "48a7697b",
   "metadata": {},
   "source": [
    "## все коэффиценты попарно равны"
   ]
  }
 ],
 "metadata": {
  "kernelspec": {
   "display_name": "Python 3",
   "language": "python",
   "name": "python3"
  },
  "language_info": {
   "codemirror_mode": {
    "name": "ipython",
    "version": 3
   },
   "file_extension": ".py",
   "mimetype": "text/x-python",
   "name": "python",
   "nbconvert_exporter": "python",
   "pygments_lexer": "ipython3",
   "version": "3.11.11"
  }
 },
 "nbformat": 4,
 "nbformat_minor": 5
}
